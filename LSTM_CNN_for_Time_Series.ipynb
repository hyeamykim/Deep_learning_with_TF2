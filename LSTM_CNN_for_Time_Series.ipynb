{
  "nbformat": 4,
  "nbformat_minor": 0,
  "metadata": {
    "accelerator": "GPU",
    "colab": {
      "name": "LSTM_CNN_for_Time_Series",
      "provenance": [],
      "collapsed_sections": []
    },
    "kernelspec": {
      "display_name": "Python 3",
      "language": "python",
      "name": "python3"
    },
    "language_info": {
      "codemirror_mode": {
        "name": "ipython",
        "version": 3
      },
      "file_extension": ".py",
      "mimetype": "text/x-python",
      "name": "python",
      "nbconvert_exporter": "python",
      "pygments_lexer": "ipython3",
      "version": "3.8.3"
    }
  },
  "cells": [
    {
      "cell_type": "markdown",
      "metadata": {
        "id": "jknoIGJEQbRi"
      },
      "source": [
        "# Google Drive Loading\n",
        "It requires to mount the directory first\n",
        "Please put the data in the same directory as below to avoid probems"
      ]
    },
    {
      "cell_type": "code",
      "metadata": {
        "id": "IO-qHXLXMdqS"
      },
      "source": [
        "import numpy as np\n",
        "import pickle as pk\n",
        "from google.colab import drive\n",
        "import tensorflow as tf\n",
        "import os\n",
        "# drive.mount('/content/gdrive', force_remount=True)"
      ],
      "execution_count": null,
      "outputs": []
    },
    {
      "cell_type": "code",
      "metadata": {
        "id": "qo5eDJddTM5r",
        "colab": {
          "base_uri": "https://localhost:8080/"
        },
        "outputId": "2f9a524c-942e-4e90-8bfa-1e6ce1110f24"
      },
      "source": [
        "drive.mount('/content/gdrive', force_remount=True)"
      ],
      "execution_count": null,
      "outputs": [
        {
          "output_type": "stream",
          "text": [
            "Mounted at /content/gdrive\n"
          ],
          "name": "stdout"
        }
      ]
    },
    {
      "cell_type": "code",
      "metadata": {
        "id": "HJg1BvOTYcZZ"
      },
      "source": [
        "def motionLoad(classes, directory, window = 60):\n",
        "  \n",
        "  if directory.endswith(\"/\"):\n",
        "    dire = directory\n",
        "  else:\n",
        "    dire = directory+\"/\"\n",
        "  file_list = os.listdir(dire) #returns a list containing the names of the entries in the directory given by path\n",
        "#   print(file_list)\n",
        "  file_list = [i for i in file_list if any(s in i for s in classes)] # get all the files in the file list \n",
        "#   print(file_list)\n",
        "  instances = []\n",
        "  labels = []\n",
        "  #READ FILES\n",
        "  for f in file_list: # for each file in the file list\n",
        "    label = [0.,0.,0.]\n",
        "    index = 0\n",
        "    #CHECK CLASS\n",
        "    for c, cla in enumerate(classes):\n",
        "      if cla in f:\n",
        "        label[c] = 1.0\n",
        "    #OPEN FILE    \n",
        "    with open(directory+f) as doc:\n",
        "      lines = doc.readlines()\n",
        "    end = 0\n",
        "    #READ AND APPEND\n",
        "    while index < len(lines):\n",
        "      count = 0\n",
        "      subin = []\n",
        "      if index+window < len(lines):\n",
        "        while count < window:\n",
        "          count +=1\n",
        "          out = lines[index].split(\"|m \")[1].split(\" |class\")[0].split(\" \") # if you make changes look here\n",
        "          out = [float(i) for i in out]\n",
        "          subin.append(out)\n",
        "          index +=1 # pay attention here!\n",
        "        instances.append(np.array(subin))\n",
        "        labels.append   (np.array(label))\n",
        "      else:\n",
        "        index = len(lines)\n",
        "  return instances, labels\n",
        "      \n",
        "          \n",
        "      "
      ],
      "execution_count": null,
      "outputs": []
    },
    {
      "cell_type": "code",
      "metadata": {
        "id": "GzrYnDh0ZTVa"
      },
      "source": [
        "xv, yv = motionLoad([\"Crouching\", \"Running\", \"Swing\"], \"/content/gdrive/My Drive/Colab Notebooks/DLLab/Motion/VAL/\", 60)\n",
        "xtr, ytr = motionLoad([\"Crouching\", \"Running\", \"Swing\"], \"/content/gdrive/My Drive/Colab Notebooks/DLLab/Motion/TRAIN/\", 60)\n",
        "xte, yte = motionLoad([\"Crouching\", \"Running\", \"Swing\"], \"/content/gdrive/My Drive/Colab Notebooks/DLLab/Motion/TEST/\", 60)\n",
        "# motionLoad([\"Crouching\", \"Running\", \"Swing\"], \"/content/gdrive/My Drive/DLLab/Motion/TEST/\")"
      ],
      "execution_count": null,
      "outputs": []
    },
    {
      "cell_type": "code",
      "metadata": {
        "id": "jOL7jSVV7Lhe"
      },
      "source": [
        "xtr = np.array(xtr)\n",
        "ytr = np.array(ytr)\n",
        "xv = np.array(xv)\n",
        "yv = np.array(yv)\n",
        "xte = np.array(xte)\n",
        "yte = np.array(yte)"
      ],
      "execution_count": null,
      "outputs": []
    },
    {
      "cell_type": "code",
      "metadata": {
        "id": "w4GFQdHq1T8M",
        "colab": {
          "base_uri": "https://localhost:8080/"
        },
        "outputId": "7d9a2c74-2cdf-482b-d5e3-d186998ca756"
      },
      "source": [
        "xv.shape # (BATCH, TIME, FEATURES)"
      ],
      "execution_count": null,
      "outputs": [
        {
          "output_type": "execute_result",
          "data": {
            "text/plain": [
              "(355, 60, 20)"
            ]
          },
          "metadata": {
            "tags": []
          },
          "execution_count": 6
        }
      ]
    },
    {
      "cell_type": "code",
      "metadata": {
        "colab": {
          "base_uri": "https://localhost:8080/"
        },
        "id": "Rm4I1kDTd3Cu",
        "outputId": "cae1126a-f60b-4626-debf-7602e98623b5"
      },
      "source": [
        "xtr.shape # (BATCH, TIME, FEATURES)"
      ],
      "execution_count": null,
      "outputs": [
        {
          "output_type": "execute_result",
          "data": {
            "text/plain": [
              "(2850, 60, 20)"
            ]
          },
          "metadata": {
            "tags": []
          },
          "execution_count": 7
        }
      ]
    },
    {
      "cell_type": "code",
      "metadata": {
        "colab": {
          "base_uri": "https://localhost:8080/"
        },
        "id": "FbcsjyGWKCio",
        "outputId": "d120a033-5a91-4b90-d831-e6a40191b6cc"
      },
      "source": [
        "xte.shape"
      ],
      "execution_count": null,
      "outputs": [
        {
          "output_type": "execute_result",
          "data": {
            "text/plain": [
              "(704, 60, 20)"
            ]
          },
          "metadata": {
            "tags": []
          },
          "execution_count": 8
        }
      ]
    },
    {
      "cell_type": "code",
      "metadata": {
        "id": "eB93b4sx-s_a"
      },
      "source": [
        "# reshape the x data to fit it into scaler\n",
        "xv = xv.reshape((-1,20))\n",
        "xtr = xtr.reshape((-1,20))\n",
        "xte = xte.reshape((-1,20))"
      ],
      "execution_count": null,
      "outputs": []
    },
    {
      "cell_type": "code",
      "metadata": {
        "id": "twydNAp-Xb99"
      },
      "source": [
        "# normalize the dataset\n",
        "from sklearn.preprocessing import MinMaxScaler, StandardScaler\n",
        "#scaler = MinMaxScaler(feature_range = (0, 1))\n",
        "scaler = StandardScaler()\n",
        "\n",
        "motion_training_scaler = scaler.fit(xtr)\n",
        "xtr = motion_training_scaler.transform(xtr)\n",
        "xv = motion_training_scaler.transform(xv)\n",
        "xte = motion_training_scaler.transform(xte)"
      ],
      "execution_count": null,
      "outputs": []
    },
    {
      "cell_type": "code",
      "metadata": {
        "id": "TlBErTuFLRpI"
      },
      "source": [
        "xtr = xtr.reshape((-1,60,20))\n",
        "xv = xv.reshape((-1,60,20))\n",
        "xte = xte.reshape((-1,60,20))"
      ],
      "execution_count": null,
      "outputs": []
    },
    {
      "cell_type": "code",
      "metadata": {
        "id": "gFCjBybNMWNw"
      },
      "source": [
        "from tensorflow.keras.layers import Dense, GRU, SimpleRNN, LSTM, Dropout\n",
        "from tensorflow.keras import Model as Model_\n",
        "from tensorflow.keras import regularizers\n",
        "\n",
        "# define a model structure\n",
        "class LSTM_Model(Model_):\n",
        "  def __init__(self): \n",
        "    super(LSTM_Model, self).__init__()\n",
        "    self.lstmLayer = LSTM(units=20, input_shape=(60,20))\n",
        "    self.dropoutLayer = Dropout(0.2)\n",
        "    \n",
        "    # The output of GRU will be a 3D tensor of shape (batch_size, timesteps, 256)\n",
        "    #self.gruLayer = GRU(256)\n",
        "    # The output of SimpleRNN will be a 2D tensor of shape (batch_size, 128)\n",
        "    #self.rnnLayer = SimpleRNN(128)\n",
        "\n",
        "    self.outputLayer = Dense(3, activation='softmax') \n",
        "  \n",
        "  # to use the model \n",
        "  def call(self, input_x):\n",
        "    output = input_x\n",
        "    output = self.lstmLayer(output)\n",
        "    output = self.dropoutLayer(output)\n",
        "    return self.outputLayer(output)"
      ],
      "execution_count": null,
      "outputs": []
    },
    {
      "cell_type": "code",
      "metadata": {
        "id": "1FBPqmM3YleZ"
      },
      "source": [
        "# optimizer defined with model, regularizer, minibatch, learning rate, and loss\n",
        "class Optimizer:\n",
        "  def __init__(self, model, mb = 128, lr = 0.001, loss = tf.keras.losses.CategoricalCrossentropy, opt=tf.keras.optimizers.Adam):\n",
        "    self.model     = model\n",
        "    self.loss      = loss() #tf.keras.losses.MeanSquaredError()\n",
        "    self.optimizer = opt(learning_rate = lr)\n",
        "    self.mb        = mb\n",
        "\n",
        "    self.train_loss     = tf.keras.metrics.Mean(name='train_loss')\n",
        "    self.train_accuracy = tf.keras.metrics.CategoricalAccuracy(name='train_accuracy')\n",
        "\n",
        "    self.test_loss     = tf.keras.metrics.Mean(name='test_loss')\n",
        "    self.test_accuracy = tf.keras.metrics.CategoricalAccuracy(name='test_accuracy')\n",
        "\n",
        "  \n",
        "  @tf.function\n",
        "  def train_step(self, x , y):\n",
        "    with tf.GradientTape() as tape: # to watch the trainable variables of model and record the operations for performing automatic differentiation\n",
        "      predictions = model(x)\n",
        "      loss = self.loss(y, predictions)\n",
        "\n",
        "    gradients = tape.gradient(loss, self.model.trainable_variables)\n",
        "    self.optimizer.apply_gradients(zip(gradients, self.model.trainable_variables))\n",
        "    self.train_loss(loss)\n",
        "    self.train_accuracy(y, predictions)\n",
        "    return loss\n",
        "\n",
        "  @tf.function\n",
        "  def test_step(self, x , y):\n",
        "    predictions = self.model(x)\n",
        "    loss = self.loss(y, predictions)\n",
        "    self.test_loss(loss)\n",
        "    self.test_accuracy(y, predictions)\n",
        "\n",
        "  def train (self):# for each mini batch, make predictions for train set and calculate loss (which is an average of the loss values in the batch)\n",
        "    for mbX, mbY in self.train_ds:\n",
        "      self.train_step(mbX, mbY)\n",
        "  \n",
        "  def test  (self): # for each mini batch, make predictions for test set and calculate loss (which is an average of the loss values in the batch)\n",
        "    for mbX, mbY in self.test_ds:\n",
        "      self.test_step(mbX, mbY)    \n",
        "  \n",
        "  def run   (self, dataX, dataY, testX, testY, epochs, verbose=2):\n",
        "    historyTR = []\n",
        "    historyTS = []\n",
        "    template = '{} {}, {}: {}, {}: {}'\n",
        "    # generate batches with the shuffled data from train set and from test set, respectively\n",
        "    self.train_ds = tf.data.Dataset.from_tensor_slices((dataX, dataY)).batch(self.mb)\n",
        "    self.test_ds  = tf.data.Dataset.from_tensor_slices((testX,testY)).batch(self.mb)\n",
        "    for i in range(epochs):\n",
        "      \n",
        "      self.train ()\n",
        "    #   print(lossTR)\n",
        "      self.test  ()\n",
        "      # if verbose, print loss values for each epoch\n",
        "      if verbose > 0:\n",
        "        print(template.format(\"epoch: \", i+1,\n",
        "                      \" TRAIN LOSS: \", self.train_loss.result(),\n",
        "                      \" TEST LOSS: \" , self.test_loss.result()),\n",
        "                      \" TRAIN ACC: \" , self.train_accuracy.result()*100,\n",
        "                      \" TEST ACC: \"  , self.test_accuracy.result()*100)\n",
        "      \n",
        "      temp = '{}'\n",
        "      # append loss values for train and test loss histories\n",
        "      historyTR.append(float(temp.format(self.train_loss.result())))\n",
        "      historyTS.append(float(temp.format(self.test_loss.result() )))\n",
        "\n",
        "      # has to reset states for each epoch\n",
        "      self.train_loss.reset_states()\n",
        "      self.train_accuracy.reset_states()\n",
        "      self.test_loss.reset_states()\n",
        "      self.test_accuracy.reset_states()\n",
        "    return historyTR, historyTS # train loss values and test loss values"
      ],
      "execution_count": null,
      "outputs": []
    },
    {
      "cell_type": "code",
      "metadata": {
        "id": "uX2qNU0oZY9I",
        "colab": {
          "base_uri": "https://localhost:8080/"
        },
        "outputId": "3d43da56-7cf5-45d2-b7f5-b9b853c46c4e"
      },
      "source": [
        "# initiate a model instance\n",
        "model  = LSTM_Model()\n",
        "\n",
        "# initiate an optimzer instance to run\n",
        "opt    = Optimizer (model,  mb = 128, lr = 0.001, loss = tf.keras.losses.CategoricalCrossentropy, opt=tf.keras.optimizers.Adam)\n",
        "# or just: $ opt    = Optimizer (model)\n",
        "\n",
        "# get train and test loss values after running the optimizer\n",
        "tr, ts = opt.run (xtr, ytr, xv, yv, 25, verbose=1)"
      ],
      "execution_count": null,
      "outputs": [
        {
          "output_type": "stream",
          "text": [
            "epoch:  1,  TRAIN LOSS: : 1.1324223279953003,  TEST LOSS: : 1.0109256505966187  TRAIN ACC:  tf.Tensor(38.666664, shape=(), dtype=float32)  TEST ACC:  tf.Tensor(49.295773, shape=(), dtype=float32)\n",
            "epoch:  2,  TRAIN LOSS: : 1.0528159141540527,  TEST LOSS: : 0.9623360633850098  TRAIN ACC:  tf.Tensor(46.245613, shape=(), dtype=float32)  TEST ACC:  tf.Tensor(58.30986, shape=(), dtype=float32)\n",
            "epoch:  3,  TRAIN LOSS: : 0.9947156310081482,  TEST LOSS: : 0.9174308776855469  TRAIN ACC:  tf.Tensor(51.19298, shape=(), dtype=float32)  TEST ACC:  tf.Tensor(64.50704, shape=(), dtype=float32)\n",
            "epoch:  4,  TRAIN LOSS: : 0.9430263638496399,  TEST LOSS: : 0.8725016713142395  TRAIN ACC:  tf.Tensor(55.78948, shape=(), dtype=float32)  TEST ACC:  tf.Tensor(69.57747, shape=(), dtype=float32)\n",
            "epoch:  5,  TRAIN LOSS: : 0.8935367465019226,  TEST LOSS: : 0.8245013356208801  TRAIN ACC:  tf.Tensor(61.824562, shape=(), dtype=float32)  TEST ACC:  tf.Tensor(76.056335, shape=(), dtype=float32)\n",
            "epoch:  6,  TRAIN LOSS: : 0.843583881855011,  TEST LOSS: : 0.7711841464042664  TRAIN ACC:  tf.Tensor(66.80702, shape=(), dtype=float32)  TEST ACC:  tf.Tensor(78.30986, shape=(), dtype=float32)\n",
            "epoch:  7,  TRAIN LOSS: : 0.7911128997802734,  TEST LOSS: : 0.7098334431648254  TRAIN ACC:  tf.Tensor(70.42105, shape=(), dtype=float32)  TEST ACC:  tf.Tensor(84.788734, shape=(), dtype=float32)\n",
            "epoch:  8,  TRAIN LOSS: : 0.7341673374176025,  TEST LOSS: : 0.6344394087791443  TRAIN ACC:  tf.Tensor(73.789474, shape=(), dtype=float32)  TEST ACC:  tf.Tensor(87.323944, shape=(), dtype=float32)\n",
            "epoch:  9,  TRAIN LOSS: : 0.6709950566291809,  TEST LOSS: : 0.5396601557731628  TRAIN ACC:  tf.Tensor(76.59649, shape=(), dtype=float32)  TEST ACC:  tf.Tensor(91.54929, shape=(), dtype=float32)\n",
            "epoch:  10,  TRAIN LOSS: : 0.6015730500221252,  TEST LOSS: : 0.4456562101840973  TRAIN ACC:  tf.Tensor(78.8421, shape=(), dtype=float32)  TEST ACC:  tf.Tensor(92.39436, shape=(), dtype=float32)\n",
            "epoch:  11,  TRAIN LOSS: : 0.528953492641449,  TEST LOSS: : 0.36274802684783936  TRAIN ACC:  tf.Tensor(82.73685, shape=(), dtype=float32)  TEST ACC:  tf.Tensor(93.80282, shape=(), dtype=float32)\n",
            "epoch:  12,  TRAIN LOSS: : 0.461565762758255,  TEST LOSS: : 0.29942062497138977  TRAIN ACC:  tf.Tensor(84.87719, shape=(), dtype=float32)  TEST ACC:  tf.Tensor(94.64789, shape=(), dtype=float32)\n",
            "epoch:  13,  TRAIN LOSS: : 0.4089002311229706,  TEST LOSS: : 0.26766470074653625  TRAIN ACC:  tf.Tensor(86.73684, shape=(), dtype=float32)  TEST ACC:  tf.Tensor(94.92957, shape=(), dtype=float32)\n",
            "epoch:  14,  TRAIN LOSS: : 0.36441853642463684,  TEST LOSS: : 0.23293839395046234  TRAIN ACC:  tf.Tensor(88.31579, shape=(), dtype=float32)  TEST ACC:  tf.Tensor(95.211266, shape=(), dtype=float32)\n",
            "epoch:  15,  TRAIN LOSS: : 0.3213942050933838,  TEST LOSS: : 0.20571954548358917  TRAIN ACC:  tf.Tensor(90.210526, shape=(), dtype=float32)  TEST ACC:  tf.Tensor(95.77465, shape=(), dtype=float32)\n",
            "epoch:  16,  TRAIN LOSS: : 0.2850380539894104,  TEST LOSS: : 0.18416966497898102  TRAIN ACC:  tf.Tensor(91.82456, shape=(), dtype=float32)  TEST ACC:  tf.Tensor(95.77465, shape=(), dtype=float32)\n",
            "epoch:  17,  TRAIN LOSS: : 0.24981895089149475,  TEST LOSS: : 0.1573532223701477  TRAIN ACC:  tf.Tensor(93.192986, shape=(), dtype=float32)  TEST ACC:  tf.Tensor(96.61972, shape=(), dtype=float32)\n",
            "epoch:  18,  TRAIN LOSS: : 0.22237864136695862,  TEST LOSS: : 0.14758701622486115  TRAIN ACC:  tf.Tensor(93.929825, shape=(), dtype=float32)  TEST ACC:  tf.Tensor(96.056335, shape=(), dtype=float32)\n",
            "epoch:  19,  TRAIN LOSS: : 0.21454809606075287,  TEST LOSS: : 0.13087420165538788  TRAIN ACC:  tf.Tensor(94.210526, shape=(), dtype=float32)  TEST ACC:  tf.Tensor(97.1831, shape=(), dtype=float32)\n",
            "epoch:  20,  TRAIN LOSS: : 0.16221396625041962,  TEST LOSS: : 0.1362779587507248  TRAIN ACC:  tf.Tensor(96.24561, shape=(), dtype=float32)  TEST ACC:  tf.Tensor(96.61972, shape=(), dtype=float32)\n",
            "epoch:  21,  TRAIN LOSS: : 0.1371176540851593,  TEST LOSS: : 0.11245576292276382  TRAIN ACC:  tf.Tensor(97.087715, shape=(), dtype=float32)  TEST ACC:  tf.Tensor(97.1831, shape=(), dtype=float32)\n",
            "epoch:  22,  TRAIN LOSS: : 0.11624310165643692,  TEST LOSS: : 0.11682533472776413  TRAIN ACC:  tf.Tensor(97.82456, shape=(), dtype=float32)  TEST ACC:  tf.Tensor(96.33803, shape=(), dtype=float32)\n",
            "epoch:  23,  TRAIN LOSS: : 0.09696608781814575,  TEST LOSS: : 0.11204054206609726  TRAIN ACC:  tf.Tensor(98.24561, shape=(), dtype=float32)  TEST ACC:  tf.Tensor(96.33803, shape=(), dtype=float32)\n",
            "epoch:  24,  TRAIN LOSS: : 0.08380156010389328,  TEST LOSS: : 0.11189327389001846  TRAIN ACC:  tf.Tensor(98.45614, shape=(), dtype=float32)  TEST ACC:  tf.Tensor(96.33803, shape=(), dtype=float32)\n",
            "epoch:  25,  TRAIN LOSS: : 0.0755198746919632,  TEST LOSS: : 0.10631880909204483  TRAIN ACC:  tf.Tensor(98.63158, shape=(), dtype=float32)  TEST ACC:  tf.Tensor(95.77465, shape=(), dtype=float32)\n"
          ],
          "name": "stdout"
        }
      ]
    },
    {
      "cell_type": "code",
      "metadata": {
        "colab": {
          "base_uri": "https://localhost:8080/",
          "height": 282
        },
        "id": "euM2_cUpGurZ",
        "outputId": "d70bd9e4-3dd1-404c-ac35-d30ec7e8a2a5"
      },
      "source": [
        "# print train and test loss over epoch\n",
        "import matplotlib.pyplot as plt\n",
        "import matplotlib\n",
        "print(matplotlib.__version__)\n",
        "plt.plot(ts, label='TEST')\n",
        "plt.plot(tr, label='TRAIN')\n",
        "plt.legend()\n",
        "plt.show()"
      ],
      "execution_count": null,
      "outputs": [
        {
          "output_type": "stream",
          "text": [
            "3.2.2\n"
          ],
          "name": "stdout"
        },
        {
          "output_type": "display_data",
          "data": {
            "image/png": "[encoded data removed]",
            "text/plain": [
              "<Figure size 432x288 with 1 Axes>"
            ]
          },
          "metadata": {
            "tags": [],
            "needs_background": "light"
          }
        }
      ]
    },
    {
      "cell_type": "code",
      "metadata": {
        "colab": {
          "base_uri": "https://localhost:8080/"
        },
        "id": "sbRR5VSkQhDC",
        "outputId": "03d236b4-b9c1-4a80-a734-aa301b3e67dd"
      },
      "source": [
        "# check the shape before putting it into the model\n",
        "print(xtr.shape)\n",
        "print(xv.shape)"
      ],
      "execution_count": null,
      "outputs": [
        {
          "output_type": "stream",
          "text": [
            "(2850, 60, 20)\n",
            "(355, 60, 20)\n"
          ],
          "name": "stdout"
        }
      ]
    },
    {
      "cell_type": "code",
      "metadata": {
        "id": "RROAiORJFS3c"
      },
      "source": [
        "from tensorflow.keras.layers import Conv1D, GlobalAveragePooling1D, GlobalMaxPooling1D, Embedding, MaxPool1D, Dense\n",
        "from tensorflow.keras import Model as Model_\n",
        "from tensorflow.keras import regularizers\n",
        "\n",
        "# define a model structure\n",
        "class CNN_Model(Model_):\n",
        "  def __init__(self): \n",
        "    super(FCN_Model, self).__init__()\n",
        "    self.conv1 = Conv1D(32, 7, activation='relu')\n",
        "    self.maxpool = MaxPool1D()\n",
        "    self.conv2 = Conv1D(32, 7, activation='relu')\n",
        "    self.globalmaxpool = GlobalMaxPooling1D()  \n",
        "    #self.dropout = Dropout(0.2)\n",
        "    self.outputLayer = Dense(3, activation='softmax')\n",
        "\n",
        "  # to use the model \n",
        "  def call(self, input_x):\n",
        "    output = input_x\n",
        "    output = self.conv1(output)\n",
        "    output = self.maxpool(output)\n",
        "    output = self.conv2(output)\n",
        "    output = self.globalmaxpool(output)\n",
        "    #output = self.dropoutLayer(output)\n",
        "    return self.outputLayer(output)"
      ],
      "execution_count": null,
      "outputs": []
    },
    {
      "cell_type": "code",
      "metadata": {
        "colab": {
          "base_uri": "https://localhost:8080/"
        },
        "id": "PIpA5SM1FR-L",
        "outputId": "5660dad2-fc67-4f99-98b2-62582a53c36b"
      },
      "source": [
        "# initiate a model instance\n",
        "model  = CNN_Model()\n",
        "\n",
        "# initiate an optimzer instance to run\n",
        "opt    = Optimizer (model,  mb = 128, lr = 0.001, loss = tf.keras.losses.CategoricalCrossentropy, opt=tf.keras.optimizers.Adam)\n",
        "# or just: $ opt    = Optimizer (model)\n",
        "\n",
        "# get train and test loss values after running the optimizer\n",
        "tr, ts = opt.run (xtr, ytr, xv, yv, 25, verbose=1)"
      ],
      "execution_count": null,
      "outputs": [
        {
          "output_type": "stream",
          "text": [
            "WARNING:tensorflow:Layer fcn__model_6 is casting an input tensor from dtype float64 to the layer's dtype of float32, which is new behavior in TensorFlow 2.  The layer has dtype float32 because its dtype defaults to floatx.\n",
            "\n",
            "If you intended to run this layer in float32, you can safely ignore this warning. If in doubt, this warning is likely only an issue if you are porting a TensorFlow 1.X model to TensorFlow 2.\n",
            "\n",
            "To change all layers to have dtype float64 by default, call `tf.keras.backend.set_floatx('float64')`. To change just this layer, pass dtype='float64' to the layer constructor. If you are the author of this layer, you can disable autocasting by passing autocast=False to the base Layer constructor.\n",
            "\n",
            "epoch:  1,  TRAIN LOSS: : 1.175915002822876,  TEST LOSS: : 0.7817130088806152  TRAIN ACC:  tf.Tensor(36.385963, shape=(), dtype=float32)  TEST ACC:  tf.Tensor(58.028168, shape=(), dtype=float32)\n",
            "epoch:  2,  TRAIN LOSS: : 0.7456298470497131,  TEST LOSS: : 0.4919853210449219  TRAIN ACC:  tf.Tensor(73.08772, shape=(), dtype=float32)  TEST ACC:  tf.Tensor(89.29578, shape=(), dtype=float32)\n",
            "epoch:  3,  TRAIN LOSS: : 0.48993733525276184,  TEST LOSS: : 0.3297276198863983  TRAIN ACC:  tf.Tensor(86.45614, shape=(), dtype=float32)  TEST ACC:  tf.Tensor(98.30986, shape=(), dtype=float32)\n",
            "epoch:  4,  TRAIN LOSS: : 0.3472544550895691,  TEST LOSS: : 0.2400374859571457  TRAIN ACC:  tf.Tensor(91.50877, shape=(), dtype=float32)  TEST ACC:  tf.Tensor(98.87324, shape=(), dtype=float32)\n",
            "epoch:  5,  TRAIN LOSS: : 0.24554389715194702,  TEST LOSS: : 0.16841810941696167  TRAIN ACC:  tf.Tensor(94.84211, shape=(), dtype=float32)  TEST ACC:  tf.Tensor(99.15493, shape=(), dtype=float32)\n",
            "epoch:  6,  TRAIN LOSS: : 0.18490806221961975,  TEST LOSS: : 0.12272432446479797  TRAIN ACC:  tf.Tensor(96.14035, shape=(), dtype=float32)  TEST ACC:  tf.Tensor(99.71831, shape=(), dtype=float32)\n",
            "epoch:  7,  TRAIN LOSS: : 0.14557787775993347,  TEST LOSS: : 0.09293926507234573  TRAIN ACC:  tf.Tensor(96.8772, shape=(), dtype=float32)  TEST ACC:  tf.Tensor(99.71831, shape=(), dtype=float32)\n",
            "epoch:  8,  TRAIN LOSS: : 0.11786413192749023,  TEST LOSS: : 0.07233494520187378  TRAIN ACC:  tf.Tensor(97.85965, shape=(), dtype=float32)  TEST ACC:  tf.Tensor(99.71831, shape=(), dtype=float32)\n",
            "epoch:  9,  TRAIN LOSS: : 0.0978049784898758,  TEST LOSS: : 0.058593910187482834  TRAIN ACC:  tf.Tensor(98.24561, shape=(), dtype=float32)  TEST ACC:  tf.Tensor(99.436615, shape=(), dtype=float32)\n",
            "epoch:  10,  TRAIN LOSS: : 0.08264617621898651,  TEST LOSS: : 0.049361661076545715  TRAIN ACC:  tf.Tensor(98.63158, shape=(), dtype=float32)  TEST ACC:  tf.Tensor(99.15493, shape=(), dtype=float32)\n",
            "epoch:  11,  TRAIN LOSS: : 0.07082245498895645,  TEST LOSS: : 0.04293704405426979  TRAIN ACC:  tf.Tensor(98.73684, shape=(), dtype=float32)  TEST ACC:  tf.Tensor(99.15493, shape=(), dtype=float32)\n",
            "epoch:  12,  TRAIN LOSS: : 0.06150341033935547,  TEST LOSS: : 0.038224950432777405  TRAIN ACC:  tf.Tensor(98.87719, shape=(), dtype=float32)  TEST ACC:  tf.Tensor(99.15493, shape=(), dtype=float32)\n",
            "epoch:  13,  TRAIN LOSS: : 0.054014697670936584,  TEST LOSS: : 0.034628089517354965  TRAIN ACC:  tf.Tensor(98.98245, shape=(), dtype=float32)  TEST ACC:  tf.Tensor(99.15493, shape=(), dtype=float32)\n",
            "epoch:  14,  TRAIN LOSS: : 0.04794013872742653,  TEST LOSS: : 0.032030824571847916  TRAIN ACC:  tf.Tensor(99.01754, shape=(), dtype=float32)  TEST ACC:  tf.Tensor(99.15493, shape=(), dtype=float32)\n",
            "epoch:  15,  TRAIN LOSS: : 0.042744141072034836,  TEST LOSS: : 0.030001014471054077  TRAIN ACC:  tf.Tensor(99.08772, shape=(), dtype=float32)  TEST ACC:  tf.Tensor(99.15493, shape=(), dtype=float32)\n",
            "epoch:  16,  TRAIN LOSS: : 0.03837423399090767,  TEST LOSS: : 0.028495213016867638  TRAIN ACC:  tf.Tensor(99.15789, shape=(), dtype=float32)  TEST ACC:  tf.Tensor(99.15493, shape=(), dtype=float32)\n",
            "epoch:  17,  TRAIN LOSS: : 0.03460300341248512,  TEST LOSS: : 0.027153586968779564  TRAIN ACC:  tf.Tensor(99.192986, shape=(), dtype=float32)  TEST ACC:  tf.Tensor(99.15493, shape=(), dtype=float32)\n",
            "epoch:  18,  TRAIN LOSS: : 0.031426750123500824,  TEST LOSS: : 0.02596118487417698  TRAIN ACC:  tf.Tensor(99.29825, shape=(), dtype=float32)  TEST ACC:  tf.Tensor(99.15493, shape=(), dtype=float32)\n",
            "epoch:  19,  TRAIN LOSS: : 0.028525393456220627,  TEST LOSS: : 0.024856500327587128  TRAIN ACC:  tf.Tensor(99.4035, shape=(), dtype=float32)  TEST ACC:  tf.Tensor(99.15493, shape=(), dtype=float32)\n",
            "epoch:  20,  TRAIN LOSS: : 0.025978580117225647,  TEST LOSS: : 0.023936966434121132  TRAIN ACC:  tf.Tensor(99.4386, shape=(), dtype=float32)  TEST ACC:  tf.Tensor(99.15493, shape=(), dtype=float32)\n",
            "epoch:  21,  TRAIN LOSS: : 0.02367887832224369,  TEST LOSS: : 0.022912217304110527  TRAIN ACC:  tf.Tensor(99.57895, shape=(), dtype=float32)  TEST ACC:  tf.Tensor(99.15493, shape=(), dtype=float32)\n",
            "epoch:  22,  TRAIN LOSS: : 0.021676691249012947,  TEST LOSS: : 0.022108079865574837  TRAIN ACC:  tf.Tensor(99.61404, shape=(), dtype=float32)  TEST ACC:  tf.Tensor(99.15493, shape=(), dtype=float32)\n",
            "epoch:  23,  TRAIN LOSS: : 0.019857535138726234,  TEST LOSS: : 0.02130725421011448  TRAIN ACC:  tf.Tensor(99.649124, shape=(), dtype=float32)  TEST ACC:  tf.Tensor(99.15493, shape=(), dtype=float32)\n",
            "epoch:  24,  TRAIN LOSS: : 0.018222495913505554,  TEST LOSS: : 0.020730769261717796  TRAIN ACC:  tf.Tensor(99.649124, shape=(), dtype=float32)  TEST ACC:  tf.Tensor(99.15493, shape=(), dtype=float32)\n",
            "epoch:  25,  TRAIN LOSS: : 0.01677670143544674,  TEST LOSS: : 0.020104356110095978  TRAIN ACC:  tf.Tensor(99.649124, shape=(), dtype=float32)  TEST ACC:  tf.Tensor(99.15493, shape=(), dtype=float32)\n"
          ],
          "name": "stdout"
        }
      ]
    },
    {
      "cell_type": "code",
      "metadata": {
        "id": "mZaZ3hsxWQLj"
      },
      "source": [
        ""
      ],
      "execution_count": null,
      "outputs": []
    },
    {
      "cell_type": "code",
      "metadata": {
        "colab": {
          "base_uri": "https://localhost:8080/",
          "height": 282
        },
        "id": "46DfwRgmRfcX",
        "outputId": "cf7f8b3b-8f5f-403f-a904-ebebd7fc543a"
      },
      "source": [
        "# print train and test loss over epoch\n",
        "import matplotlib.pyplot as plt\n",
        "import matplotlib\n",
        "print(matplotlib.__version__)\n",
        "plt.plot(ts, label='TEST')\n",
        "plt.plot(tr, label='TRAIN')\n",
        "plt.legend()\n",
        "plt.show()"
      ],
      "execution_count": null,
      "outputs": [
        {
          "output_type": "stream",
          "text": [
            "3.2.2\n"
          ],
          "name": "stdout"
        },
        {
          "output_type": "display_data",
          "data": {
            "image/png": "[encoded data removed]",
            "text/plain": [
              "<Figure size 432x288 with 1 Axes>"
            ]
          },
          "metadata": {
            "tags": [],
            "needs_background": "light"
          }
        }
      ]
    },
    {
      "cell_type": "code",
      "metadata": {
        "id": "c_nm4ARydoIp"
      },
      "source": [
        ""
      ],
      "execution_count": null,
      "outputs": []
    },
    {
      "cell_type": "code",
      "metadata": {
        "id": "k4aoQDybYPRv"
      },
      "source": [
        ""
      ],
      "execution_count": null,
      "outputs": []
    }
  ]
}