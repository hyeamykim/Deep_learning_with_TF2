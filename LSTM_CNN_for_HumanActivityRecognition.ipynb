{
  "nbformat": 4,
  "nbformat_minor": 0,
  "metadata": {
    "accelerator": "GPU",
    "colab": {
      "name": "LSTM_CNN_for_HumanActivityRecognition",
      "provenance": [],
      "collapsed_sections": [
        "jknoIGJEQbRi"
      ],
      "toc_visible": true,
      "include_colab_link": true
    },
    "kernelspec": {
      "display_name": "Python 3",
      "language": "python",
      "name": "python3"
    },
    "language_info": {
      "codemirror_mode": {
        "name": "ipython",
        "version": 3
      },
      "file_extension": ".py",
      "mimetype": "text/x-python",
      "name": "python",
      "nbconvert_exporter": "python",
      "pygments_lexer": "ipython3",
      "version": "3.8.3"
    }
  },
  "cells": [
    {
      "cell_type": "markdown",
      "metadata": {
        "id": "view-in-github",
        "colab_type": "text"
      },
      "source": [
        "<a href=\"https://colab.research.google.com/github/hyeamykim/Deep_learning_with_TF2/blob/main/LSTM_CNN_for_HumanActivityRecognition.ipynb\" target=\"_parent\"><img src=\"https://colab.research.google.com/assets/colab-badge.svg\" alt=\"Open In Colab\"/></a>"
      ]
    },
    {
      "cell_type": "markdown",
      "metadata": {
        "id": "DLM142JvnNcM"
      },
      "source": [
        "## 1D CNN for Human Activity Recognotion (HAR)\n",
        "\n",
        "Reference: https://machinelearningmastery.com/cnn-models-for-human-activity-recognition-time-series-classification/"
      ]
    },
    {
      "cell_type": "markdown",
      "metadata": {
        "id": "0sB2xDeS9Wbi"
      },
      "source": [
        "## Data"
      ]
    },
    {
      "cell_type": "markdown",
      "metadata": {
        "id": "jknoIGJEQbRi"
      },
      "source": [
        "### Google Drive Loading\n"
      ]
    },
    {
      "cell_type": "code",
      "metadata": {
        "id": "IO-qHXLXMdqS"
      },
      "source": [
        "import numpy as np\n",
        "import pickle as pk\n",
        "from google.colab import drive\n",
        "import tensorflow as tf\n",
        "import os\n",
        "# drive.mount('/content/gdrive', force_remount=True)"
      ],
      "execution_count": null,
      "outputs": []
    },
    {
      "cell_type": "code",
      "metadata": {
        "colab": {
          "base_uri": "https://localhost:8080/"
        },
        "id": "ZLl7dtDsSK36",
        "outputId": "9e3e8f70-8583-451c-fc7b-538ff45b5fe0"
      },
      "source": [
        "print(tf.__version__)"
      ],
      "execution_count": null,
      "outputs": [
        {
          "output_type": "stream",
          "name": "stdout",
          "text": [
            "2.7.0\n"
          ]
        }
      ]
    },
    {
      "cell_type": "code",
      "metadata": {
        "id": "qo5eDJddTM5r",
        "colab": {
          "base_uri": "https://localhost:8080/"
        },
        "outputId": "9c9f9ce7-f6bb-4a04-d5eb-ab2433a74e03"
      },
      "source": [
        "drive.mount('/content/gdrive', force_remount=True)"
      ],
      "execution_count": null,
      "outputs": [
        {
          "output_type": "stream",
          "name": "stdout",
          "text": [
            "Mounted at /content/gdrive\n"
          ]
        }
      ]
    },
    {
      "cell_type": "code",
      "metadata": {
        "id": "yLunhM4kPPYz"
      },
      "source": [
        "#!unzip gdrive/My\\ Drive/Colab\\ Notebooks/DLLab/UCI\\ HAR\\ Dataset.zip"
      ],
      "execution_count": null,
      "outputs": []
    },
    {
      "cell_type": "markdown",
      "metadata": {
        "id": "aJVZwivhQP0n"
      },
      "source": [
        "To suppres the output"
      ]
    },
    {
      "cell_type": "code",
      "metadata": {
        "id": "JKpXp189QPX7"
      },
      "source": [
        "!unzip gdrive/My\\ Drive/Colab\\ Notebooks/DLLab/UCI\\ HAR\\ Dataset.zip > /dev/null"
      ],
      "execution_count": null,
      "outputs": []
    },
    {
      "cell_type": "markdown",
      "metadata": {
        "id": "EX7XosbsVTlw"
      },
      "source": [
        "### Data Loading"
      ]
    },
    {
      "cell_type": "code",
      "metadata": {
        "id": "Uj2eJiZWVWW1"
      },
      "source": [
        "# import libraries\n",
        "from numpy import mean\n",
        "from numpy import std\n",
        "from numpy import dstack\n",
        "from pandas import read_csv\n",
        "from matplotlib import pyplot"
      ],
      "execution_count": null,
      "outputs": []
    },
    {
      "cell_type": "code",
      "metadata": {
        "id": "oV9HPWfEy0e8"
      },
      "source": [
        "from tensorflow.keras.utils import to_categorical"
      ],
      "execution_count": null,
      "outputs": []
    },
    {
      "cell_type": "code",
      "metadata": {
        "id": "yCQBEH0MVWMM"
      },
      "source": [
        "# load a single file as a numpy array\n",
        "def load_file(filepath):\n",
        "\tdataframe = read_csv(filepath, header=None, delim_whitespace=True)\n",
        "\treturn dataframe.values"
      ],
      "execution_count": null,
      "outputs": []
    },
    {
      "cell_type": "code",
      "metadata": {
        "id": "vdkoaLGYVWAs"
      },
      "source": [
        "# load a list of files into a 3D array of [samples, timesteps, features]\n",
        "def load_group(filenames, prefix=''):\n",
        "\tloaded = list()\n",
        "\tfor name in filenames:\n",
        "\t\tdata = load_file(prefix + name)\n",
        "\t\tloaded.append(data)\n",
        "\t# stack group so that features are the 3rd dimension\n",
        "\tloaded = dstack(loaded)\n",
        "\treturn loaded"
      ],
      "execution_count": null,
      "outputs": []
    },
    {
      "cell_type": "code",
      "metadata": {
        "id": "EsSICsuYVbEo"
      },
      "source": [
        "# load a dataset group, such as train or test\n",
        "def load_dataset_group(group, prefix=''):\n",
        "\tfilepath = prefix + group + '/Inertial Signals/'\n",
        "\t# load all 9 files as a single array\n",
        "\tfilenames = list()\n",
        "\t# total acceleration\n",
        "\tfilenames += ['total_acc_x_'+group+'.txt', 'total_acc_y_'+group+'.txt', 'total_acc_z_'+group+'.txt']\n",
        "\t# body acceleration\n",
        "\tfilenames += ['body_acc_x_'+group+'.txt', 'body_acc_y_'+group+'.txt', 'body_acc_z_'+group+'.txt']\n",
        "\t# body gyroscope\n",
        "\tfilenames += ['body_gyro_x_'+group+'.txt', 'body_gyro_y_'+group+'.txt', 'body_gyro_z_'+group+'.txt']\n",
        "\t# load input data\n",
        "\tX = load_group(filenames, filepath)\n",
        "\t# load class output\n",
        "\ty = load_file(prefix + group + '/y_'+group+'.txt')\n",
        "\treturn X, y"
      ],
      "execution_count": null,
      "outputs": []
    },
    {
      "cell_type": "code",
      "metadata": {
        "id": "s3QS5XUdVhbE"
      },
      "source": [
        "# load the dataset, returns train and test X and y elements\n",
        "def load_dataset(prefix=''):\n",
        "\t# load all train\n",
        "\ttrainX, trainy = load_dataset_group('train', prefix + 'UCI HAR Dataset/')\n",
        "\tprint(trainX.shape, trainy.shape)\n",
        "\t# load all test\n",
        "\ttestX, testy = load_dataset_group('test', prefix + 'UCI HAR Dataset/')\n",
        "\tprint(testX.shape, testy.shape)\n",
        "\t# zero-offset class values\n",
        "\ttrainy = trainy - 1\n",
        "\ttesty = testy - 1\n",
        "\t# one hot encode y\n",
        "\ttrainy = to_categorical(trainy)\n",
        "\ttesty = to_categorical(testy)\n",
        "\tprint(trainX.shape, trainy.shape, testX.shape, testy.shape)\n",
        "\treturn trainX, trainy, testX, testy"
      ],
      "execution_count": null,
      "outputs": []
    },
    {
      "cell_type": "code",
      "metadata": {
        "colab": {
          "base_uri": "https://localhost:8080/"
        },
        "id": "PZ9hH8jPeCKt",
        "outputId": "9a5b4632-7815-4f2b-c443-acd0cccca620"
      },
      "source": [
        "trainX, trainy, testX, testy = load_dataset() # prints out the shape of trainX, trainy, testX, testy"
      ],
      "execution_count": null,
      "outputs": [
        {
          "output_type": "stream",
          "name": "stdout",
          "text": [
            "(7352, 128, 9) (7352, 1)\n",
            "(2947, 128, 9) (2947, 1)\n",
            "(7352, 128, 9) (7352, 6) (2947, 128, 9) (2947, 6)\n"
          ]
        }
      ]
    },
    {
      "cell_type": "markdown",
      "metadata": {
        "id": "M5T2j66ayD0K"
      },
      "source": [
        "### Data Preprocesing"
      ]
    },
    {
      "cell_type": "markdown",
      "metadata": {
        "id": "s6c0FrGqzLv1"
      },
      "source": [
        "Normalize the dataset"
      ]
    },
    {
      "cell_type": "code",
      "metadata": {
        "id": "zwkkSL_vzSol"
      },
      "source": [
        "# reshape the data to be used for scaler input\n",
        "\n",
        "trainX = trainX.reshape((-1,128*9))\n",
        "testX = testX.reshape((-1,128*9))"
      ],
      "execution_count": null,
      "outputs": []
    },
    {
      "cell_type": "code",
      "metadata": {
        "id": "Xb78xsa9eFzZ"
      },
      "source": [
        "# standardize the dataset\n",
        "\n",
        "from sklearn.preprocessing import MinMaxScaler, StandardScaler\n",
        "\n",
        "scaler = StandardScaler()\n",
        "\n",
        "motion_training_scaler = scaler.fit(trainX)\n",
        "trainX = motion_training_scaler.transform(trainX)\n",
        "testX = motion_training_scaler.transform(testX)"
      ],
      "execution_count": null,
      "outputs": []
    },
    {
      "cell_type": "code",
      "metadata": {
        "id": "Fc-Gu4uSzYIF"
      },
      "source": [
        "# size has to be defined as (batch, n_timesteps, n_features) to be used for the input for neural network\n",
        "trainX = trainX.reshape((-1,128,9)) \n",
        "testX = testX.reshape((-1,128,9))"
      ],
      "execution_count": null,
      "outputs": []
    },
    {
      "cell_type": "code",
      "metadata": {
        "id": "o-li-SRIfaaK"
      },
      "source": [
        "n_timesteps, n_features, n_outputs = trainX.shape[1], trainX.shape[2], trainy.shape[1]"
      ],
      "execution_count": null,
      "outputs": []
    },
    {
      "cell_type": "markdown",
      "metadata": {
        "id": "WSD784MwRUWo"
      },
      "source": [
        "# Model"
      ]
    },
    {
      "cell_type": "markdown",
      "metadata": {
        "id": "ck4ArFNUe893"
      },
      "source": [
        "### LSTM"
      ]
    },
    {
      "cell_type": "code",
      "metadata": {
        "id": "gFCjBybNMWNw"
      },
      "source": [
        "from tensorflow.keras.layers import Dense, GRU, SimpleRNN, LSTM, Dropout\n",
        "from tensorflow.keras import Model as Model_\n",
        "from tensorflow.keras import regularizers\n",
        "\n",
        "# define a model structure\n",
        "class LSTM_Model(Model_):\n",
        "  def __init__(self): \n",
        "    super(LSTM_Model, self).__init__()\n",
        "    self.lstmLayer = LSTM(units=20, input_shape=(n_timesteps,n_features))\n",
        "    self.dropoutLayer = Dropout(0.2)\n",
        "    \n",
        "    # The output of GRU will be a 3D tensor of shape (batch_size, timesteps, 256)\n",
        "    #self.gruLayer = GRU(256)\n",
        "    # The output of SimpleRNN will be a 2D tensor of shape (batch_size, 128)\n",
        "    #self.rnnLayer = SimpleRNN(128)\n",
        "\n",
        "    self.outputLayer = Dense(6, activation='softmax') \n",
        "  \n",
        "  # to use the model \n",
        "  def call(self, input_x):\n",
        "    output = input_x\n",
        "    output = self.lstmLayer(output)\n",
        "    output = self.dropoutLayer(output)\n",
        "    return self.outputLayer(output)"
      ],
      "execution_count": null,
      "outputs": []
    },
    {
      "cell_type": "code",
      "metadata": {
        "id": "1FBPqmM3YleZ"
      },
      "source": [
        "# optimizer defined with model, regularizer, minibatch, learning rate, and loss\n",
        "class Optimizer:\n",
        "  def __init__(self, model, mb = 128, lr = 0.001, loss = tf.keras.losses.CategoricalCrossentropy, opt=tf.keras.optimizers.Adam):\n",
        "    self.model     = model\n",
        "    self.loss      = loss() #tf.keras.losses.MeanSquaredError()\n",
        "    self.optimizer = opt(learning_rate = lr)\n",
        "    self.mb        = mb\n",
        "\n",
        "    self.train_loss     = tf.keras.metrics.Mean(name='train_loss')\n",
        "    self.train_accuracy = tf.keras.metrics.CategoricalAccuracy(name='train_accuracy')\n",
        "\n",
        "    self.test_loss     = tf.keras.metrics.Mean(name='test_loss')\n",
        "    self.test_accuracy = tf.keras.metrics.CategoricalAccuracy(name='test_accuracy')\n",
        "\n",
        "  \n",
        "  @tf.function\n",
        "  def train_step(self, x , y):\n",
        "    with tf.GradientTape() as tape: # to watch the trainable variables of model and record the operations for performing automatic differentiation\n",
        "      predictions = model(x)\n",
        "      loss = self.loss(y, predictions)\n",
        "\n",
        "    gradients = tape.gradient(loss, self.model.trainable_variables)\n",
        "    self.optimizer.apply_gradients(zip(gradients, self.model.trainable_variables))\n",
        "    self.train_loss(loss)\n",
        "    self.train_accuracy(y, predictions)\n",
        "    return loss\n",
        "\n",
        "  @tf.function\n",
        "  def test_step(self, x , y):\n",
        "    predictions = self.model(x)\n",
        "    loss = self.loss(y, predictions)\n",
        "    self.test_loss(loss)\n",
        "    self.test_accuracy(y, predictions)\n",
        "\n",
        "  def train (self):# for each mini batch, make predictions for train set and calculate loss (which is an average of the loss values in the batch)\n",
        "    for mbX, mbY in self.train_ds:\n",
        "      self.train_step(mbX, mbY)\n",
        "  \n",
        "  def test  (self): # for each mini batch, make predictions for test set and calculate loss (which is an average of the loss values in the batch)\n",
        "    for mbX, mbY in self.test_ds:\n",
        "      self.test_step(mbX, mbY)    \n",
        "  \n",
        "  def run   (self, dataX, dataY, testX, testY, epochs, verbose=2):\n",
        "    historyTR = []\n",
        "    historyTS = []\n",
        "    final_accuracy = 0\n",
        "\n",
        "    template = '{} {}, {}: {}, {}: {}'\n",
        "    # generate batches with the shuffled data from train set and from test set, respectively\n",
        "    self.train_ds = tf.data.Dataset.from_tensor_slices((dataX, dataY)).batch(self.mb)\n",
        "    self.test_ds  = tf.data.Dataset.from_tensor_slices((testX,testY)).batch(self.mb)\n",
        "    for i in range(epochs):\n",
        "      \n",
        "      self.train ()\n",
        "    #   print(lossTR)\n",
        "      self.test  ()\n",
        "      # if verbose, print loss values for each epoch\n",
        "      if verbose > 0:\n",
        "        print(template.format(\"epoch: \", i+1,\n",
        "                      \" TRAIN LOSS: %.4f \" % (self.train_loss.result()),\n",
        "                      \" TEST LOSS: %.4f \"  % (self.test_loss.result()),\n",
        "                      \" TRAIN ACC: %.4f \"  % (self.train_accuracy.result()*100),\n",
        "                      \" TEST ACC: %.4f \"   % (self.test_accuracy.result()*100)))\n",
        "      \n",
        "      temp = '{}'\n",
        "\n",
        "      # append loss values for train and test loss histories\n",
        "      historyTR.append(float(temp.format(self.train_loss.result())))\n",
        "      historyTS.append(float(temp.format(self.test_loss.result() )))\n",
        "\n",
        "      final_accuracy = self.test_accuracy.result()*100\n",
        "\n",
        "      # has to reset states for each epoch\n",
        "      self.train_loss.reset_states()\n",
        "      self.train_accuracy.reset_states()\n",
        "      self.test_loss.reset_states()\n",
        "      self.test_accuracy.reset_states()\n",
        "    return final_accuracy, historyTR, historyTS # train loss values and test loss values"
      ],
      "execution_count": null,
      "outputs": []
    },
    {
      "cell_type": "code",
      "metadata": {
        "id": "uX2qNU0oZY9I",
        "colab": {
          "base_uri": "https://localhost:8080/"
        },
        "outputId": "6428427f-7939-4bfb-98e5-1f392629db60"
      },
      "source": [
        "# initiate a model instance\n",
        "model  = LSTM_Model()\n",
        "\n",
        "# initiate an optimzer instance to run\n",
        "opt    = Optimizer (model,  mb = 128, lr = 0.001, loss = tf.keras.losses.CategoricalCrossentropy, opt=tf.keras.optimizers.Adam)\n",
        "# or just: $ opt    = Optimizer (model)\n",
        "\n",
        "# get train and test loss values after running the optimizer\n",
        "acc, tr, ts = opt.run (trainX, trainy, testX, testy, 25, verbose=1)"
      ],
      "execution_count": null,
      "outputs": [
        {
          "output_type": "stream",
          "name": "stdout",
          "text": [
            "epoch:  1,  TRAIN LOSS: 1.4694 :  TEST LOSS: 1.2887 ,  TRAIN ACC: 49.8096 :  TEST ACC: 54.1568 \n",
            "epoch:  2,  TRAIN LOSS: 1.0654 :  TEST LOSS: 0.9920 ,  TRAIN ACC: 62.7040 :  TEST ACC: 62.5721 \n",
            "epoch:  3,  TRAIN LOSS: 0.8470 :  TEST LOSS: 0.8711 ,  TRAIN ACC: 66.7573 :  TEST ACC: 65.2528 \n",
            "epoch:  4,  TRAIN LOSS: 0.7580 :  TEST LOSS: 0.7848 ,  TRAIN ACC: 69.8857 :  TEST ACC: 68.7818 \n",
            "epoch:  5,  TRAIN LOSS: 0.6867 :  TEST LOSS: 0.7246 ,  TRAIN ACC: 74.2519 :  TEST ACC: 73.0913 \n",
            "epoch:  6,  TRAIN LOSS: 0.6171 :  TEST LOSS: 0.6825 ,  TRAIN ACC: 78.8221 :  TEST ACC: 77.5704 \n",
            "epoch:  7,  TRAIN LOSS: 0.5554 :  TEST LOSS: 0.5945 ,  TRAIN ACC: 82.5898 :  TEST ACC: 80.5226 \n",
            "epoch:  8,  TRAIN LOSS: 0.4830 :  TEST LOSS: 0.5259 ,  TRAIN ACC: 84.9021 :  TEST ACC: 82.9997 \n",
            "epoch:  9,  TRAIN LOSS: 0.4065 :  TEST LOSS: 0.5046 ,  TRAIN ACC: 87.3096 :  TEST ACC: 83.1015 \n",
            "epoch:  10,  TRAIN LOSS: 0.3742 :  TEST LOSS: 0.4963 ,  TRAIN ACC: 87.3776 :  TEST ACC: 83.1354 \n",
            "epoch:  11,  TRAIN LOSS: 0.3590 :  TEST LOSS: 0.4651 ,  TRAIN ACC: 88.3841 :  TEST ACC: 84.3230 \n",
            "epoch:  12,  TRAIN LOSS: 0.3142 :  TEST LOSS: 0.4169 ,  TRAIN ACC: 90.0843 :  TEST ACC: 85.5446 \n",
            "epoch:  13,  TRAIN LOSS: 0.2941 :  TEST LOSS: 0.6324 ,  TRAIN ACC: 90.7372 :  TEST ACC: 80.2511 \n",
            "epoch:  14,  TRAIN LOSS: 0.7738 :  TEST LOSS: 0.5871 ,  TRAIN ACC: 77.2851 :  TEST ACC: 80.4547 \n",
            "epoch:  15,  TRAIN LOSS: 0.3520 :  TEST LOSS: 0.4649 ,  TRAIN ACC: 87.8672 :  TEST ACC: 84.6963 \n",
            "epoch:  16,  TRAIN LOSS: 0.2800 :  TEST LOSS: 0.4045 ,  TRAIN ACC: 90.6284 :  TEST ACC: 86.1215 \n",
            "epoch:  17,  TRAIN LOSS: 0.2441 :  TEST LOSS: 0.3839 ,  TRAIN ACC: 91.0500 :  TEST ACC: 86.8341 \n",
            "epoch:  18,  TRAIN LOSS: 0.2270 :  TEST LOSS: 0.3677 ,  TRAIN ACC: 92.1790 :  TEST ACC: 87.5806 \n",
            "epoch:  19,  TRAIN LOSS: 0.2174 :  TEST LOSS: 0.3554 ,  TRAIN ACC: 92.3830 :  TEST ACC: 87.9539 \n",
            "epoch:  20,  TRAIN LOSS: 0.2058 :  TEST LOSS: 0.3451 ,  TRAIN ACC: 92.6551 :  TEST ACC: 88.2592 \n",
            "epoch:  21,  TRAIN LOSS: 0.1926 :  TEST LOSS: 0.3439 ,  TRAIN ACC: 93.1447 :  TEST ACC: 88.7004 \n",
            "epoch:  22,  TRAIN LOSS: 0.1856 :  TEST LOSS: 0.3563 ,  TRAIN ACC: 93.2943 :  TEST ACC: 87.9878 \n",
            "epoch:  23,  TRAIN LOSS: 0.1834 :  TEST LOSS: 0.3394 ,  TRAIN ACC: 93.3895 :  TEST ACC: 88.5646 \n",
            "epoch:  24,  TRAIN LOSS: 0.1689 :  TEST LOSS: 0.3359 ,  TRAIN ACC: 94.0152 :  TEST ACC: 89.0058 \n",
            "epoch:  25,  TRAIN LOSS: 0.1662 :  TEST LOSS: 0.3342 ,  TRAIN ACC: 93.7024 :  TEST ACC: 89.2772 \n"
          ]
        }
      ]
    },
    {
      "cell_type": "code",
      "metadata": {
        "colab": {
          "base_uri": "https://localhost:8080/",
          "height": 283
        },
        "id": "LsMDKVFK7tR3",
        "outputId": "0889a2d9-2b71-4398-baab-60a3562312a9"
      },
      "source": [
        "# print train and test loss over epoch\n",
        "import matplotlib.pyplot as plt\n",
        "import matplotlib\n",
        "print(matplotlib.__version__)\n",
        "plt.plot(ts, label='TEST')\n",
        "plt.plot(tr, label='TRAIN')\n",
        "plt.legend()\n",
        "plt.show()"
      ],
      "execution_count": null,
      "outputs": [
        {
          "output_type": "stream",
          "name": "stdout",
          "text": [
            "3.2.2\n"
          ]
        },
        {
          "output_type": "display_data",
          "data": {
            "image/png": "[encoded data removed]",
            "text/plain": [
              "<Figure size 432x288 with 1 Axes>"
            ]
          },
          "metadata": {
            "needs_background": "light"
          }
        }
      ]
    },
    {
      "cell_type": "markdown",
      "metadata": {
        "id": "VBd1WsHnR6EV"
      },
      "source": [
        "#### Model Evaluation"
      ]
    },
    {
      "cell_type": "markdown",
      "metadata": {
        "id": "Cr7eiQDWRe-d"
      },
      "source": [
        "Repeat experiments to validate the model evaluation"
      ]
    },
    {
      "cell_type": "code",
      "metadata": {
        "id": "DaY7YnBj51rB"
      },
      "source": [
        "# summarize scores\n",
        "def summarize_results(scores):\n",
        "  print(scores)\n",
        "  m, s = mean(scores), std(scores)\n",
        "  print('Accuracy: %.3f%% (+/-%.3f' %(m,s))"
      ],
      "execution_count": null,
      "outputs": []
    },
    {
      "cell_type": "code",
      "metadata": {
        "id": "MTzZkQ4E5WdH"
      },
      "source": [
        "# run an experiment\n",
        "def run_experiment(repeats=10):\n",
        "\n",
        "  #trainX, trainy, testX, testy = load_dataset()\n",
        "\n",
        "  # repeat experiment\n",
        "  scores = list()\n",
        "  for r in range(repeats):\n",
        "    score, tr, ts = opt.run(trainX, trainy, testX, testy, 25, verbose=0)\n",
        "    print('>#%d: %3.f' % (r+1, score))\n",
        "    scores.append(score)\n",
        "\n",
        "  # summarize results\n",
        "  summarize_results(scores)"
      ],
      "execution_count": null,
      "outputs": []
    },
    {
      "cell_type": "code",
      "metadata": {
        "colab": {
          "base_uri": "https://localhost:8080/"
        },
        "id": "PKdj-pYq5WQo",
        "outputId": "9f04ff81-f2f7-4414-fa74-35c96892238b"
      },
      "source": [
        "run_experiment()"
      ],
      "execution_count": null,
      "outputs": [
        {
          "output_type": "stream",
          "name": "stdout",
          "text": [
            ">#1:  89\n",
            ">#2:  90\n",
            ">#3:  89\n",
            ">#4:  91\n",
            ">#5:  90\n",
            ">#6:  90\n",
            ">#7:  91\n",
            ">#8:  91\n",
            ">#9:  90\n",
            ">#10:  91\n",
            "[<tf.Tensor: shape=(), dtype=float32, numpy=89.3451>, <tf.Tensor: shape=(), dtype=float32, numpy=89.786224>, <tf.Tensor: shape=(), dtype=float32, numpy=89.07363>, <tf.Tensor: shape=(), dtype=float32, numpy=91.109604>, <tf.Tensor: shape=(), dtype=float32, numpy=90.12555>, <tf.Tensor: shape=(), dtype=float32, numpy=89.58263>, <tf.Tensor: shape=(), dtype=float32, numpy=91.07567>, <tf.Tensor: shape=(), dtype=float32, numpy=90.634544>, <tf.Tensor: shape=(), dtype=float32, numpy=89.58263>, <tf.Tensor: shape=(), dtype=float32, numpy=90.66847>]\n",
            "Accuracy: 90.098% (+/-0.696\n"
          ]
        }
      ]
    },
    {
      "cell_type": "code",
      "metadata": {
        "id": "p40W85Ij5WHf"
      },
      "source": [
        ""
      ],
      "execution_count": null,
      "outputs": []
    },
    {
      "cell_type": "code",
      "metadata": {
        "id": "93y-Ce8K5V-b"
      },
      "source": [
        ""
      ],
      "execution_count": null,
      "outputs": []
    },
    {
      "cell_type": "markdown",
      "metadata": {
        "id": "UXTRP5KT8LQ2"
      },
      "source": [
        "### CNN"
      ]
    },
    {
      "cell_type": "code",
      "metadata": {
        "id": "RROAiORJFS3c"
      },
      "source": [
        "from tensorflow.keras.layers import Conv1D, GlobalAveragePooling1D, GlobalMaxPooling1D, Embedding, MaxPool1D, Dense\n",
        "from tensorflow.keras import Model as Model_\n",
        "from tensorflow.keras import regularizers\n",
        "\n",
        "# define a model structure\n",
        "class CNN_Model(Model_):\n",
        "  def __init__(self): \n",
        "    super(CNN_Model, self).__init__()\n",
        "    self.conv1 = Conv1D(32, 3, activation='relu')\n",
        "    self.maxpool = MaxPool1D()\n",
        "    self.conv2 = Conv1D(32, 3, activation='relu')\n",
        "    self.globalmaxpool = GlobalMaxPooling1D()  \n",
        "    #self.dropout = Dropout(0.2)\n",
        "    self.outputLayer = Dense(6, activation='softmax')\n",
        "\n",
        "  # to use the model \n",
        "  def call(self, input_x):\n",
        "    output = input_x\n",
        "    output = self.conv1(output)\n",
        "    output = self.maxpool(output)\n",
        "    output = self.conv2(output)\n",
        "    output = self.globalmaxpool(output)\n",
        "    #output = self.dropoutLayer(output)\n",
        "    return self.outputLayer(output)"
      ],
      "execution_count": null,
      "outputs": []
    },
    {
      "cell_type": "code",
      "metadata": {
        "colab": {
          "base_uri": "https://localhost:8080/"
        },
        "id": "PIpA5SM1FR-L",
        "outputId": "81861196-a8e0-4e22-8e22-4a2b10e892c4"
      },
      "source": [
        "# initiate a model instance\n",
        "model  = CNN_Model()\n",
        "\n",
        "# initiate an optimzer instance to run\n",
        "opt    = Optimizer (model,  mb = 128, lr = 0.001, loss = tf.keras.losses.CategoricalCrossentropy, opt=tf.keras.optimizers.Adam)\n",
        "# or just: $ opt    = Optimizer (model)\n",
        "\n",
        "# get train and test loss values after running the optimizer\n",
        "acc, tr, ts = opt.run (trainX, trainy, testX, testy, 25, verbose=1)"
      ],
      "execution_count": null,
      "outputs": [
        {
          "output_type": "stream",
          "name": "stdout",
          "text": [
            "epoch:  1,  TRAIN LOSS: 1.2891 :  TEST LOSS: 0.9498 ,  TRAIN ACC: 50.0680 :  TEST ACC: 78.0455 \n",
            "epoch:  2,  TRAIN LOSS: 0.7134 :  TEST LOSS: 0.6420 ,  TRAIN ACC: 86.6567 :  TEST ACC: 83.5426 \n",
            "epoch:  3,  TRAIN LOSS: 0.4558 :  TEST LOSS: 0.4728 ,  TRAIN ACC: 90.6148 :  TEST ACC: 86.4269 \n",
            "epoch:  4,  TRAIN LOSS: 0.3072 :  TEST LOSS: 0.3778 ,  TRAIN ACC: 92.2198 :  TEST ACC: 88.2253 \n",
            "epoch:  5,  TRAIN LOSS: 0.2336 :  TEST LOSS: 0.3318 ,  TRAIN ACC: 93.0359 :  TEST ACC: 88.1235 \n",
            "epoch:  6,  TRAIN LOSS: 0.1939 :  TEST LOSS: 0.3087 ,  TRAIN ACC: 93.3079 :  TEST ACC: 88.3610 \n",
            "epoch:  7,  TRAIN LOSS: 0.1707 :  TEST LOSS: 0.2930 ,  TRAIN ACC: 93.5120 :  TEST ACC: 88.5307 \n",
            "epoch:  8,  TRAIN LOSS: 0.1560 :  TEST LOSS: 0.2819 ,  TRAIN ACC: 93.7160 :  TEST ACC: 89.0736 \n",
            "epoch:  9,  TRAIN LOSS: 0.1455 :  TEST LOSS: 0.2727 ,  TRAIN ACC: 93.8384 :  TEST ACC: 89.3451 \n",
            "epoch:  10,  TRAIN LOSS: 0.1380 :  TEST LOSS: 0.2647 ,  TRAIN ACC: 94.0288 :  TEST ACC: 89.6505 \n",
            "epoch:  11,  TRAIN LOSS: 0.1322 :  TEST LOSS: 0.2579 ,  TRAIN ACC: 94.3961 :  TEST ACC: 90.0577 \n",
            "epoch:  12,  TRAIN LOSS: 0.1278 :  TEST LOSS: 0.2522 ,  TRAIN ACC: 94.5729 :  TEST ACC: 90.3970 \n",
            "epoch:  13,  TRAIN LOSS: 0.1244 :  TEST LOSS: 0.2473 ,  TRAIN ACC: 94.6953 :  TEST ACC: 90.7024 \n",
            "epoch:  14,  TRAIN LOSS: 0.1215 :  TEST LOSS: 0.2429 ,  TRAIN ACC: 94.7769 :  TEST ACC: 90.8721 \n",
            "epoch:  15,  TRAIN LOSS: 0.1191 :  TEST LOSS: 0.2393 ,  TRAIN ACC: 94.8041 :  TEST ACC: 90.9739 \n",
            "epoch:  16,  TRAIN LOSS: 0.1169 :  TEST LOSS: 0.2362 ,  TRAIN ACC: 94.8721 :  TEST ACC: 91.0757 \n",
            "epoch:  17,  TRAIN LOSS: 0.1152 :  TEST LOSS: 0.2337 ,  TRAIN ACC: 94.8721 :  TEST ACC: 91.2114 \n",
            "epoch:  18,  TRAIN LOSS: 0.1136 :  TEST LOSS: 0.2314 ,  TRAIN ACC: 94.9265 :  TEST ACC: 91.2793 \n",
            "epoch:  19,  TRAIN LOSS: 0.1122 :  TEST LOSS: 0.2291 ,  TRAIN ACC: 94.9538 :  TEST ACC: 91.4829 \n",
            "epoch:  20,  TRAIN LOSS: 0.1109 :  TEST LOSS: 0.2275 ,  TRAIN ACC: 94.9538 :  TEST ACC: 91.5168 \n",
            "epoch:  21,  TRAIN LOSS: 0.1098 :  TEST LOSS: 0.2259 ,  TRAIN ACC: 94.9810 :  TEST ACC: 91.5507 \n",
            "epoch:  22,  TRAIN LOSS: 0.1087 :  TEST LOSS: 0.2242 ,  TRAIN ACC: 95.0082 :  TEST ACC: 91.5507 \n",
            "epoch:  23,  TRAIN LOSS: 0.1077 :  TEST LOSS: 0.2227 ,  TRAIN ACC: 95.0490 :  TEST ACC: 91.5847 \n",
            "epoch:  24,  TRAIN LOSS: 0.1067 :  TEST LOSS: 0.2212 ,  TRAIN ACC: 95.1034 :  TEST ACC: 91.5847 \n",
            "epoch:  25,  TRAIN LOSS: 0.1058 :  TEST LOSS: 0.2197 ,  TRAIN ACC: 95.1170 :  TEST ACC: 91.6186 \n"
          ]
        }
      ]
    },
    {
      "cell_type": "code",
      "metadata": {
        "colab": {
          "base_uri": "https://localhost:8080/",
          "height": 283
        },
        "id": "46DfwRgmRfcX",
        "outputId": "c66a76d2-415a-4c3d-f0eb-672454eaebab"
      },
      "source": [
        "# print train and test loss over epoch\n",
        "import matplotlib.pyplot as plt\n",
        "import matplotlib\n",
        "print(matplotlib.__version__)\n",
        "plt.plot(ts, label='TEST')\n",
        "plt.plot(tr, label='TRAIN')\n",
        "plt.legend()\n",
        "plt.show()"
      ],
      "execution_count": null,
      "outputs": [
        {
          "output_type": "stream",
          "name": "stdout",
          "text": [
            "3.2.2\n"
          ]
        },
        {
          "output_type": "display_data",
          "data": {
            "image/png": "[encoded data removed]",
            "text/plain": [
              "<Figure size 432x288 with 1 Axes>"
            ]
          },
          "metadata": {
            "needs_background": "light"
          }
        }
      ]
    },
    {
      "cell_type": "markdown",
      "metadata": {
        "id": "N9Wt6ql4R_yd"
      },
      "source": [
        "#### Model Evaluation"
      ]
    },
    {
      "cell_type": "code",
      "metadata": {
        "id": "c_nm4ARydoIp",
        "colab": {
          "base_uri": "https://localhost:8080/"
        },
        "outputId": "07b13034-800b-417a-d230-75749404e5b8"
      },
      "source": [
        "run_experiment()"
      ],
      "execution_count": null,
      "outputs": [
        {
          "output_type": "stream",
          "name": "stdout",
          "text": [
            ">#1:  93\n",
            ">#2:  93\n",
            ">#3:  93\n",
            ">#4:  92\n",
            ">#5:  92\n",
            ">#6:  93\n",
            ">#7:  93\n",
            ">#8:  93\n",
            ">#9:  92\n",
            ">#10:  92\n",
            "[<tf.Tensor: shape=(), dtype=float32, numpy=92.67051>, <tf.Tensor: shape=(), dtype=float32, numpy=93.41704>, <tf.Tensor: shape=(), dtype=float32, numpy=92.73838>, <tf.Tensor: shape=(), dtype=float32, numpy=91.82219>, <tf.Tensor: shape=(), dtype=float32, numpy=91.58466>, <tf.Tensor: shape=(), dtype=float32, numpy=92.77231>, <tf.Tensor: shape=(), dtype=float32, numpy=92.602646>, <tf.Tensor: shape=(), dtype=float32, numpy=92.53478>, <tf.Tensor: shape=(), dtype=float32, numpy=92.19545>, <tf.Tensor: shape=(), dtype=float32, numpy=91.82219>]\n",
            "Accuracy: 92.416% (+/-0.528\n"
          ]
        }
      ]
    },
    {
      "cell_type": "code",
      "metadata": {
        "id": "k4aoQDybYPRv"
      },
      "source": [
        ""
      ],
      "execution_count": null,
      "outputs": []
    }
  ]
}