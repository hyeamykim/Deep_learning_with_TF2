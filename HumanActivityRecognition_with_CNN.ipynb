{
  "nbformat": 4,
  "nbformat_minor": 0,
  "metadata": {
    "accelerator": "GPU",
    "colab": {
      "provenance": [],
      "collapsed_sections": [
        "0sB2xDeS9Wbi",
        "jknoIGJEQbRi",
        "EX7XosbsVTlw",
        "lcQgIjBxs1oC",
        "M5T2j66ayD0K",
        "vHB8_wDSwdTO",
        "WMCB4wXpyR5s"
      ],
      "toc_visible": true,
      "include_colab_link": true
    },
    "kernelspec": {
      "display_name": "Python 3",
      "language": "python",
      "name": "python3"
    },
    "language_info": {
      "codemirror_mode": {
        "name": "ipython",
        "version": 3
      },
      "file_extension": ".py",
      "mimetype": "text/x-python",
      "name": "python",
      "nbconvert_exporter": "python",
      "pygments_lexer": "ipython3",
      "version": "3.8.3"
    }
  },
  "cells": [
    {
      "cell_type": "markdown",
      "metadata": {
        "id": "view-in-github",
        "colab_type": "text"
      },
      "source": [
        "<a href=\"https://colab.research.google.com/github/hyeamykim/Deep_learning_with_TF2/blob/main/HumanActivityRecognition_with_CNN.ipynb\" target=\"_parent\"><img src=\"https://colab.research.google.com/assets/colab-badge.svg\" alt=\"Open In Colab\"/></a>"
      ]
    },
    {
      "cell_type": "markdown",
      "metadata": {
        "id": "DLM142JvnNcM"
      },
      "source": [
        "# Human Activity Recognotion (HAR)\n",
        "\n",
        "* Problem statement\n",
        "\n",
        "  Given sequences of sensor measurements, find the activity type.\n",
        "\n",
        "* Notebook Structure\n",
        "\n",
        "  * Data\n",
        "    * Download\n",
        "    * EDA\n",
        "    * Pre-process\n",
        "  * Model \n",
        "    * Define the model\n",
        "    * Train the model\n",
        "  * Results\n",
        "  * Further Experiments\n",
        "    * Tune hyperparameters.\n",
        "\n",
        "\n",
        "* Dataset\n",
        "\n",
        "  Human Activity Recognition Using Smartphones Data Set, UCI Machine Learning Repository https://archive.ics.uci.edu/ml/datasets/human+activity+recognition+using+smartphones\n",
        "\n",
        "* References\n",
        "  * Davide Anguita, Alessandro Ghio, Luca Oneto, Xavier Parra and Jorge L. Reyes-Ortiz. A Public Domain Dataset for Human Activity Recognition Using Smartphones. 21th European Symposium on Artificial Neural Networks, Computational Intelligence and Machine Learning, ESANN 2013. Bruges, Belgium 24-26 April 2013. https://archive.ics.uci.edu/ml/datasets/human+activity+recognition+using+smartphones\n",
        "  * 1D Convolutional Neural Network Models for Human Activity Recognition by Machine Learning Mastery https://machinelearningmastery.com/cnn-models-for-human-activity-recognition-time-series-classification/\n",
        "\n",
        "  * The basics of using KerasTuner to tune model hyperparameters https://keras.io/guides/keras_tuner/getting_started/\n"
      ]
    },
    {
      "cell_type": "markdown",
      "metadata": {
        "id": "0sB2xDeS9Wbi"
      },
      "source": [
        "## Data"
      ]
    },
    {
      "cell_type": "markdown",
      "metadata": {
        "id": "jknoIGJEQbRi"
      },
      "source": [
        "### Google Drive Loading\n"
      ]
    },
    {
      "cell_type": "markdown",
      "source": [
        "Mount your Google Drive to access the data saved in Google Drive"
      ],
      "metadata": {
        "id": "0x1yKM9Okv7N"
      }
    },
    {
      "cell_type": "code",
      "metadata": {
        "id": "IO-qHXLXMdqS"
      },
      "source": [
        "import numpy as np\n",
        "import pickle as pk\n",
        "from google.colab import drive\n",
        "import tensorflow as tf\n",
        "import os"
      ],
      "execution_count": 1,
      "outputs": []
    },
    {
      "cell_type": "code",
      "metadata": {
        "colab": {
          "base_uri": "https://localhost:8080/"
        },
        "id": "ZLl7dtDsSK36",
        "outputId": "342ae38a-3681-411e-98c6-cdc4aaaba07a"
      },
      "source": [
        "print(tf.__version__)"
      ],
      "execution_count": 2,
      "outputs": [
        {
          "output_type": "stream",
          "name": "stdout",
          "text": [
            "2.12.0\n"
          ]
        }
      ]
    },
    {
      "cell_type": "code",
      "metadata": {
        "id": "qo5eDJddTM5r",
        "colab": {
          "base_uri": "https://localhost:8080/"
        },
        "outputId": "da8c23c3-abde-4729-c7c8-e51cf2051dd8"
      },
      "source": [
        "drive.mount('/content/gdrive', force_remount=True)"
      ],
      "execution_count": 3,
      "outputs": [
        {
          "output_type": "stream",
          "name": "stdout",
          "text": [
            "Mounted at /content/gdrive\n"
          ]
        }
      ]
    },
    {
      "cell_type": "markdown",
      "metadata": {
        "id": "aJVZwivhQP0n"
      },
      "source": [
        "To suppress the output when unzipping the data"
      ]
    },
    {
      "cell_type": "code",
      "metadata": {
        "id": "JKpXp189QPX7"
      },
      "source": [
        "!unzip gdrive/My\\ Drive/Colab\\ Notebooks/DLLab/UCI\\ HAR\\ Dataset.zip > /dev/null"
      ],
      "execution_count": null,
      "outputs": []
    },
    {
      "cell_type": "markdown",
      "metadata": {
        "id": "EX7XosbsVTlw"
      },
      "source": [
        "### Data Loading"
      ]
    },
    {
      "cell_type": "markdown",
      "source": [
        "* The data consists of three main components--total acceleration, body acceleration, and body gyroscope--each of which has x, y, and z measurement. So there are 9 variable for data at each time step.\n",
        "\n",
        "* The data was measured at 50Hz and grouped into overlapping windows of 2.56 seconds. So each window has 128 (2.56 by 50) time steps. \n",
        "\n",
        "* Each row of data has 1152 (128 by 9) elements. "
      ],
      "metadata": {
        "id": "4PeUrC33k5aa"
      }
    },
    {
      "cell_type": "code",
      "metadata": {
        "id": "Uj2eJiZWVWW1"
      },
      "source": [
        "# import libraries\n",
        "from numpy import mean\n",
        "from numpy import std\n",
        "from numpy import dstack\n",
        "from numpy import array\n",
        "from numpy import vstack\n",
        "\n",
        "from pandas import read_csv\n",
        "from pandas import DataFrame\n",
        "\n",
        "import matplotlib.pyplot as plt"
      ],
      "execution_count": 5,
      "outputs": []
    },
    {
      "cell_type": "code",
      "metadata": {
        "id": "oV9HPWfEy0e8"
      },
      "source": [
        "from tensorflow.keras.utils import to_categorical"
      ],
      "execution_count": 6,
      "outputs": []
    },
    {
      "cell_type": "code",
      "metadata": {
        "id": "yCQBEH0MVWMM"
      },
      "source": [
        "# load a single file as a numpy array\n",
        "def load_file(filepath):\n",
        "\tdataframe = read_csv(filepath, header=None, delim_whitespace=True)\n",
        "\treturn dataframe.values"
      ],
      "execution_count": 7,
      "outputs": []
    },
    {
      "cell_type": "code",
      "metadata": {
        "id": "vdkoaLGYVWAs"
      },
      "source": [
        "# load a list of files into a 3D array of [samples, timesteps, features]\n",
        "def load_group(filenames, prefix=''):\n",
        "\tloaded = list()\n",
        "\tfor name in filenames:\n",
        "\t\tdata = load_file(prefix + name)\n",
        "\t\tloaded.append(data)\n",
        "\t# stack group so that features are the 3rd dimension\n",
        "\tloaded = dstack(loaded)\n",
        "\treturn loaded"
      ],
      "execution_count": 8,
      "outputs": []
    },
    {
      "cell_type": "code",
      "metadata": {
        "id": "EsSICsuYVbEo"
      },
      "source": [
        "# load a dataset group, such as train or test\n",
        "def load_dataset_group(group, prefix=''):\n",
        "\tfilepath = prefix + group + '/Inertial Signals/'\n",
        "\t# load all 9 files as a single array\n",
        "\tfilenames = list()\n",
        "\t# total acceleration\n",
        "\tfilenames += ['total_acc_x_'+group+'.txt', 'total_acc_y_'+group+'.txt', 'total_acc_z_'+group+'.txt']\n",
        "\t# body acceleration\n",
        "\tfilenames += ['body_acc_x_'+group+'.txt', 'body_acc_y_'+group+'.txt', 'body_acc_z_'+group+'.txt']\n",
        "\t# body gyroscope\n",
        "\tfilenames += ['body_gyro_x_'+group+'.txt', 'body_gyro_y_'+group+'.txt', 'body_gyro_z_'+group+'.txt']\n",
        "\t# load input data\n",
        "\tX = load_group(filenames, filepath)\n",
        "\t# load class output\n",
        "\ty = load_file(prefix + group + '/y_'+group+'.txt')\n",
        "\treturn X, y"
      ],
      "execution_count": 9,
      "outputs": []
    },
    {
      "cell_type": "markdown",
      "source": [
        "Since the output of the dataset was defined with integer, as class number, \n",
        "* offset the values so that the class label starts with zero\n",
        "* one hot encode the values using keras to_categorial() function so that it can work with keras multiclass classification model "
      ],
      "metadata": {
        "id": "2KInZaDLrUuH"
      }
    },
    {
      "cell_type": "code",
      "metadata": {
        "id": "s3QS5XUdVhbE"
      },
      "source": [
        "# load the dataset, returns train and test X and y elements\n",
        "def load_dataset(prefix=''):\n",
        "\t# load all train\n",
        "\ttrainX, trainy = load_dataset_group('train', prefix + 'UCI HAR Dataset/')\n",
        "\t#print(trainX.shape, trainy.shape)\n",
        "\t# load all test\n",
        "\ttestX, testy = load_dataset_group('test', prefix + 'UCI HAR Dataset/')\n",
        "\t#print(testX.shape, testy.shape)\n",
        "\t# zero-offset class values\n",
        "\ttrainy = trainy - 1\n",
        "\ttesty = testy - 1\n",
        "\t# one hot encode y\n",
        "\t#trainy = to_categorical(trainy)\n",
        "\t#testy = to_categorical(testy)\n",
        "\tprint(trainX.shape, trainy.shape, testX.shape, testy.shape)\n",
        "\treturn trainX, trainy, testX, testy"
      ],
      "execution_count": 10,
      "outputs": []
    },
    {
      "cell_type": "code",
      "metadata": {
        "colab": {
          "base_uri": "https://localhost:8080/"
        },
        "id": "PZ9hH8jPeCKt",
        "outputId": "9d11f5b9-c70f-4935-ee1e-22475bf527ee"
      },
      "source": [
        "trainX, trainy, testX, testy = load_dataset() # prints out the shape of trainX, trainy, testX, testy"
      ],
      "execution_count": 11,
      "outputs": [
        {
          "output_type": "stream",
          "name": "stdout",
          "text": [
            "(7352, 128, 9) (7352, 1) (2947, 128, 9) (2947, 1)\n"
          ]
        }
      ]
    },
    {
      "cell_type": "markdown",
      "source": [
        "Further divide train set to train and validation sets."
      ],
      "metadata": {
        "id": "Ltq1ZjBV15U4"
      }
    },
    {
      "cell_type": "code",
      "source": [
        "from sklearn.model_selection import train_test_split"
      ],
      "metadata": {
        "id": "w5_555iYtSBy"
      },
      "execution_count": 12,
      "outputs": []
    },
    {
      "cell_type": "code",
      "source": [
        "trainX, validX, trainy, validy = train_test_split(trainX, trainy, test_size=0.19, random_state=42)"
      ],
      "metadata": {
        "id": "jQ2KebFl2CUe"
      },
      "execution_count": 13,
      "outputs": []
    },
    {
      "cell_type": "code",
      "source": [
        "trainX.shape"
      ],
      "metadata": {
        "colab": {
          "base_uri": "https://localhost:8080/"
        },
        "id": "ojxWfYnn2fCc",
        "outputId": "b8c34668-be49-4c83-ae1c-c4c156ba4d82"
      },
      "execution_count": 14,
      "outputs": [
        {
          "output_type": "execute_result",
          "data": {
            "text/plain": [
              "(5955, 128, 9)"
            ]
          },
          "metadata": {},
          "execution_count": 14
        }
      ]
    },
    {
      "cell_type": "code",
      "source": [
        "trainy.shape"
      ],
      "metadata": {
        "colab": {
          "base_uri": "https://localhost:8080/"
        },
        "id": "9Mmk7Rri3N-3",
        "outputId": "a409ed2e-5b6a-462d-a4b9-ce4cd11f6bd5"
      },
      "execution_count": 15,
      "outputs": [
        {
          "output_type": "execute_result",
          "data": {
            "text/plain": [
              "(5955, 1)"
            ]
          },
          "metadata": {},
          "execution_count": 15
        }
      ]
    },
    {
      "cell_type": "code",
      "source": [
        "trainy[0]"
      ],
      "metadata": {
        "colab": {
          "base_uri": "https://localhost:8080/"
        },
        "id": "HbV1li9WhF9c",
        "outputId": "c6f2c9b5-8f94-4e4d-8f82-47c43f84b605"
      },
      "execution_count": 16,
      "outputs": [
        {
          "output_type": "execute_result",
          "data": {
            "text/plain": [
              "array([0])"
            ]
          },
          "metadata": {},
          "execution_count": 16
        }
      ]
    },
    {
      "cell_type": "code",
      "source": [
        "validX.shape"
      ],
      "metadata": {
        "colab": {
          "base_uri": "https://localhost:8080/"
        },
        "id": "RbhcRAC13LOp",
        "outputId": "359f616e-6fe0-44e6-ef4a-564895fd7eee"
      },
      "execution_count": 17,
      "outputs": [
        {
          "output_type": "execute_result",
          "data": {
            "text/plain": [
              "(1397, 128, 9)"
            ]
          },
          "metadata": {},
          "execution_count": 17
        }
      ]
    },
    {
      "cell_type": "code",
      "source": [
        "validy.shape"
      ],
      "metadata": {
        "colab": {
          "base_uri": "https://localhost:8080/"
        },
        "id": "nBEeHLa3I9kc",
        "outputId": "2c3a9081-6074-484a-8edc-9dd3c457313f"
      },
      "execution_count": 18,
      "outputs": [
        {
          "output_type": "execute_result",
          "data": {
            "text/plain": [
              "(1397, 1)"
            ]
          },
          "metadata": {},
          "execution_count": 18
        }
      ]
    },
    {
      "cell_type": "markdown",
      "source": [
        "### Exploratory Data Analysis"
      ],
      "metadata": {
        "id": "lcQgIjBxs1oC"
      }
    },
    {
      "cell_type": "markdown",
      "source": [
        "The following function for EDA came from (https://machinelearningmastery.com/how-to-model-human-activity-from-smartphone-data/)"
      ],
      "metadata": {
        "id": "8dhc4NrWc5AQ"
      }
    },
    {
      "cell_type": "code",
      "source": [
        "# summarize the balance of classes in an output variable column\n",
        "def class_breakdown(data):\n",
        " # convert the numpy array into a dataframe\n",
        " df = DataFrame(data)\n",
        " # group data by the class value and calculate the number of rows\n",
        " counts = df.groupby(0).size()\n",
        " # retrieve raw rows\n",
        " counts = counts.values\n",
        " # summarize\n",
        " for i in range(len(counts)):\n",
        "  percent = counts[i] / len(df) * 100\n",
        "  print('Class=%d, total=%d, percentage=%.3f' % (i, counts[i], percent))"
      ],
      "metadata": {
        "id": "hW5e3CZ6E0Ye"
      },
      "execution_count": 19,
      "outputs": []
    },
    {
      "cell_type": "code",
      "source": [
        "# summarize class breakdown\n",
        "print('Train Dataset')\n",
        "class_breakdown(trainy)"
      ],
      "metadata": {
        "colab": {
          "base_uri": "https://localhost:8080/"
        },
        "id": "pNDsHSlNE1eo",
        "outputId": "5f6d8164-057f-4a59-ecea-7205ce5c044b"
      },
      "execution_count": 20,
      "outputs": [
        {
          "output_type": "stream",
          "name": "stdout",
          "text": [
            "Train Dataset\n",
            "Class=0, total=987, percentage=16.574\n",
            "Class=1, total=882, percentage=14.811\n",
            "Class=2, total=788, percentage=13.233\n",
            "Class=3, total=1042, percentage=17.498\n",
            "Class=4, total=1109, percentage=18.623\n",
            "Class=5, total=1147, percentage=19.261\n"
          ]
        }
      ]
    },
    {
      "cell_type": "code",
      "source": [
        "# summarize class breakdown\n",
        "print('Valid Dataset')\n",
        "class_breakdown(validy)"
      ],
      "metadata": {
        "colab": {
          "base_uri": "https://localhost:8080/"
        },
        "id": "T3_wsEQXJB8_",
        "outputId": "8786f8b8-7a97-4627-c2d2-49cd7130ae7a"
      },
      "execution_count": 21,
      "outputs": [
        {
          "output_type": "stream",
          "name": "stdout",
          "text": [
            "Valid Dataset\n",
            "Class=0, total=239, percentage=17.108\n",
            "Class=1, total=191, percentage=13.672\n",
            "Class=2, total=198, percentage=14.173\n",
            "Class=3, total=244, percentage=17.466\n",
            "Class=4, total=265, percentage=18.969\n",
            "Class=5, total=260, percentage=18.611\n"
          ]
        }
      ]
    },
    {
      "cell_type": "code",
      "source": [
        "# summarize class breakdown\n",
        "print('Test Dataset')\n",
        "class_breakdown(testy)"
      ],
      "metadata": {
        "colab": {
          "base_uri": "https://localhost:8080/"
        },
        "id": "jgbD9FzmE6p8",
        "outputId": "43f43cfa-ad99-4acb-ee9a-4a42f31615c3"
      },
      "execution_count": 22,
      "outputs": [
        {
          "output_type": "stream",
          "name": "stdout",
          "text": [
            "Test Dataset\n",
            "Class=0, total=496, percentage=16.831\n",
            "Class=1, total=471, percentage=15.982\n",
            "Class=2, total=420, percentage=14.252\n",
            "Class=3, total=491, percentage=16.661\n",
            "Class=4, total=532, percentage=18.052\n",
            "Class=5, total=537, percentage=18.222\n"
          ]
        }
      ]
    },
    {
      "cell_type": "markdown",
      "source": [
        "Visually inspect the dataset"
      ],
      "metadata": {
        "id": "M__6l-_Ms6Sn"
      }
    },
    {
      "cell_type": "markdown",
      "source": [
        "* Total Acceleration x\n",
        "* Total Acceleration y\n",
        "* Total Acceleration z\n",
        "* Body Acceleration x\n",
        "* Body Acceleration y\n",
        "* Body Acceleration z\n",
        "* Body Gyroscope x\n",
        "* Body Gyroscope y\n",
        "* Body Gyroscope z"
      ],
      "metadata": {
        "id": "jX4p2Dh8spOc"
      }
    },
    {
      "cell_type": "markdown",
      "source": [
        "The following function for EDA came from (https://machinelearningmastery.com/how-to-model-human-activity-from-smartphone-data/)"
      ],
      "metadata": {
        "id": "xo6_GGPudJyZ"
      }
    },
    {
      "cell_type": "code",
      "source": [
        "# plot a histogram of each variable in the dataset\n",
        "def plot_variable_distributions(trainX):\n",
        "  # remove overlap\n",
        "  cut = int(trainX.shape[1] / 2)\n",
        "  longX = trainX[:, -cut:, :]\n",
        "  # flatten windows\n",
        "  longX = longX.reshape((longX.shape[0] * longX.shape[1], longX.shape[2]))\n",
        "  print(longX.shape)\n",
        "  plt.figure()\n",
        "  xaxis = None\n",
        "  for i in range(longX.shape[1]):\n",
        "    ax = plt.subplot(longX.shape[1], 1, i+1, sharex=xaxis)\n",
        "    ax.set_xlim(-1, 1)\n",
        "    if i == 0:\n",
        "      xaxis = ax\n",
        "    plt.hist(longX[:, i], bins=100)\n",
        "    plt.show()"
      ],
      "metadata": {
        "id": "ZzFduaJOq1uy"
      },
      "execution_count": 23,
      "outputs": []
    },
    {
      "cell_type": "code",
      "source": [
        "plot_variable_distributions(trainX)"
      ],
      "metadata": {
        "colab": {
          "base_uri": "https://localhost:8080/",
          "height": 743
        },
        "id": "DhOcLohurVsl",
        "outputId": "e25313cf-a104-4fef-ede3-c13e8f3e3826"
      },
      "execution_count": 24,
      "outputs": [
        {
          "output_type": "stream",
          "name": "stdout",
          "text": [
            "(381120, 9)\n"
          ]
        },
        {
          "output_type": "display_data",
          "data": {
            "text/plain": [
              "<Figure size 640x480 with 1 Axes>"
            ],
            "image/png": "[encoded data removed]"
          },
          "metadata": {}
        },
        {
          "output_type": "display_data",
          "data": {
            "text/plain": [
              "<Figure size 640x480 with 1 Axes>"
            ],
            "image/png": "[encoded data removed]"
          },
          "metadata": {}
        },
        {
          "output_type": "display_data",
          "data": {
            "text/plain": [
              "<Figure size 640x480 with 1 Axes>"
            ],
            "image/png": "[encoded data removed]"
          },
          "metadata": {}
        },
        {
          "output_type": "display_data",
          "data": {
            "text/plain": [
              "<Figure size 640x480 with 1 Axes>"
            ],
            "image/png": "[encoded data removed]"
          },
          "metadata": {}
        },
        {
          "output_type": "display_data",
          "data": {
            "text/plain": [
              "<Figure size 640x480 with 1 Axes>"
            ],
            "image/png": "[encoded data removed]"
          },
          "metadata": {}
        },
        {
          "output_type": "display_data",
          "data": {
            "text/plain": [
              "<Figure size 640x480 with 1 Axes>"
            ],
            "image/png": "[encoded data removed]"
          },
          "metadata": {}
        },
        {
          "output_type": "display_data",
          "data": {
            "text/plain": [
              "<Figure size 640x480 with 1 Axes>"
            ],
            "image/png": "[encoded data removed]"
          },
          "metadata": {}
        },
        {
          "output_type": "display_data",
          "data": {
            "text/plain": [
              "<Figure size 640x480 with 1 Axes>"
            ],
            "image/png": "[encoded data removed]"
          },
          "metadata": {}
        },
        {
          "output_type": "display_data",
          "data": {
            "text/plain": [
              "<Figure size 640x480 with 1 Axes>"
            ],
            "image/png": "[encoded data removed]"
          },
          "metadata": {}
        }
      ]
    },
    {
      "cell_type": "markdown",
      "source": [
        "We can say that this is close to Gaussian distribution and thus, apply the standardization of the data."
      ],
      "metadata": {
        "id": "RuLKHnrEtFNQ"
      }
    },
    {
      "cell_type": "markdown",
      "metadata": {
        "id": "M5T2j66ayD0K"
      },
      "source": [
        "### Data Preprocesing"
      ]
    },
    {
      "cell_type": "markdown",
      "metadata": {
        "id": "s6c0FrGqzLv1"
      },
      "source": [
        "Normalize the dataset to deal with different ranges of each feature. "
      ]
    },
    {
      "cell_type": "code",
      "metadata": {
        "id": "zwkkSL_vzSol"
      },
      "source": [
        "# reshape the data to be used for scaler input\n",
        "\n",
        "trainX = trainX.reshape((-1,128*9))\n",
        "validX = validX.reshape((-1,128*9))\n",
        "testX = testX.reshape((-1,128*9))"
      ],
      "execution_count": 25,
      "outputs": []
    },
    {
      "cell_type": "code",
      "metadata": {
        "id": "Xb78xsa9eFzZ"
      },
      "source": [
        "# standardize the dataset\n",
        "\n",
        "from sklearn.preprocessing import StandardScaler\n",
        "\n",
        "scaler = StandardScaler()\n",
        "\n",
        "motion_training_scaler = scaler.fit(trainX)\n",
        "trainX = motion_training_scaler.transform(trainX)\n",
        "validX = motion_training_scaler.transform(validX)\n",
        "testX = motion_training_scaler.transform(testX)"
      ],
      "execution_count": 26,
      "outputs": []
    },
    {
      "cell_type": "code",
      "metadata": {
        "id": "Fc-Gu4uSzYIF"
      },
      "source": [
        "# size has to be defined as (batch, n_timesteps, n_features) to be used for the input for neural network\n",
        "trainX = trainX.reshape((-1,128,9))\n",
        "validX = validX.reshape((-1,128,9))  \n",
        "testX = testX.reshape((-1,128,9))"
      ],
      "execution_count": 27,
      "outputs": []
    },
    {
      "cell_type": "code",
      "source": [
        "trainy = to_categorical(trainy)\n",
        "validy = to_categorical(validy)\n",
        "testy = to_categorical(testy)"
      ],
      "metadata": {
        "id": "nCKC1SXqJjGh"
      },
      "execution_count": 28,
      "outputs": []
    },
    {
      "cell_type": "code",
      "metadata": {
        "id": "o-li-SRIfaaK"
      },
      "source": [
        "n_timesteps, n_features, n_outputs = trainX.shape[1], trainX.shape[2], trainy.shape[1]"
      ],
      "execution_count": 29,
      "outputs": []
    },
    {
      "cell_type": "code",
      "source": [
        "trainX.shape"
      ],
      "metadata": {
        "colab": {
          "base_uri": "https://localhost:8080/"
        },
        "id": "md4hwz0WniND",
        "outputId": "f7cfa3c8-b30c-4d96-84b2-66b53e03e5f7"
      },
      "execution_count": 30,
      "outputs": [
        {
          "output_type": "execute_result",
          "data": {
            "text/plain": [
              "(5955, 128, 9)"
            ]
          },
          "metadata": {},
          "execution_count": 30
        }
      ]
    },
    {
      "cell_type": "code",
      "source": [
        "trainy.shape"
      ],
      "metadata": {
        "colab": {
          "base_uri": "https://localhost:8080/"
        },
        "id": "8PgwOc3BJzxg",
        "outputId": "6b3dfd9b-d3df-44da-8582-c9d17a718c8b"
      },
      "execution_count": 31,
      "outputs": [
        {
          "output_type": "execute_result",
          "data": {
            "text/plain": [
              "(5955, 6)"
            ]
          },
          "metadata": {},
          "execution_count": 31
        }
      ]
    },
    {
      "cell_type": "markdown",
      "metadata": {
        "id": "WSD784MwRUWo"
      },
      "source": [
        "## Model"
      ]
    },
    {
      "cell_type": "markdown",
      "source": [
        "### Defining and Compiling"
      ],
      "metadata": {
        "id": "vHB8_wDSwdTO"
      }
    },
    {
      "cell_type": "code",
      "source": [
        "from tensorflow import keras\n",
        "from keras.layers import Conv1D, GlobalAveragePooling1D, GlobalMaxPooling1D, MaxPooling1D, Dense, Dropout, Flatten\n",
        "from keras import Model as Model_\n",
        "from keras import regularizers\n",
        "\n",
        "# define a model structure\n",
        "class CNN_Model(Model_):\n",
        "  def __init__(self): \n",
        "    super(CNN_Model, self).__init__()\n",
        "    self.conv1 = Conv1D(32, 3, activation='relu')\n",
        "    self.maxpool = MaxPooling1D()\n",
        "    self.conv2 = Conv1D(32, 3, activation='relu')\n",
        "    self.globalmaxpool = GlobalMaxPooling1D()  \n",
        "    self.dropout = Dropout(0.2)\n",
        "    self.outputLayer = Dense(6, activation='softmax')\n",
        "\n",
        "  # to use the model \n",
        "  def call(self, input_x):\n",
        "    output = input_x\n",
        "    output = self.conv1(output)\n",
        "    output = self.maxpool(output)\n",
        "    output = self.conv2(output)\n",
        "    output = self.globalmaxpool(output)\n",
        "    output = self.dropout(output)\n",
        "    return self.outputLayer(output)"
      ],
      "metadata": {
        "id": "tdJNCFEowe2e"
      },
      "execution_count": 32,
      "outputs": []
    },
    {
      "cell_type": "code",
      "source": [
        "# initiate a model instance\n",
        "model  = CNN_Model()"
      ],
      "metadata": {
        "id": "A1vTPresHWz8"
      },
      "execution_count": 33,
      "outputs": []
    },
    {
      "cell_type": "code",
      "source": [
        "model.compile(\n",
        "    optimizer=keras.optimizers.Adam(),  # Optimizer\n",
        "    # Loss function to minimize\n",
        "    loss=keras.losses.CategoricalCrossentropy(),\n",
        "    # List of metrics to monitor\n",
        "    metrics=[keras.metrics.CategoricalAccuracy(name='accuracy')],\n",
        ")"
      ],
      "metadata": {
        "id": "3wO0iiraDyRD"
      },
      "execution_count": 34,
      "outputs": []
    },
    {
      "cell_type": "markdown",
      "source": [
        "### Training"
      ],
      "metadata": {
        "id": "2gX1Lnzbeswv"
      }
    },
    {
      "cell_type": "code",
      "source": [
        "print(\"Fit model on training data\")\n",
        "history = model.fit(\n",
        "    trainX,\n",
        "    trainy,\n",
        "    batch_size=64,\n",
        "    epochs=25,\n",
        "    validation_data=(validX, validy),\n",
        ")"
      ],
      "metadata": {
        "colab": {
          "base_uri": "https://localhost:8080/"
        },
        "id": "04o1jYNVEhiQ",
        "outputId": "84f177a9-704c-4be9-9bd8-cfd17ff7e00b"
      },
      "execution_count": 35,
      "outputs": [
        {
          "output_type": "stream",
          "name": "stdout",
          "text": [
            "Fit model on training data\n",
            "Epoch 1/25\n",
            "94/94 [==============================] - 5s 8ms/step - loss: 1.1242 - accuracy: 0.5970 - val_loss: 0.6464 - val_accuracy: 0.8883\n",
            "Epoch 2/25\n",
            "94/94 [==============================] - 0s 5ms/step - loss: 0.5243 - accuracy: 0.8709 - val_loss: 0.2701 - val_accuracy: 0.9306\n",
            "Epoch 3/25\n",
            "94/94 [==============================] - 0s 5ms/step - loss: 0.2862 - accuracy: 0.9068 - val_loss: 0.1606 - val_accuracy: 0.9420\n",
            "Epoch 4/25\n",
            "94/94 [==============================] - 0s 5ms/step - loss: 0.2143 - accuracy: 0.9234 - val_loss: 0.1335 - val_accuracy: 0.9449\n",
            "Epoch 5/25\n",
            "94/94 [==============================] - 0s 5ms/step - loss: 0.1829 - accuracy: 0.9327 - val_loss: 0.1249 - val_accuracy: 0.9420\n",
            "Epoch 6/25\n",
            "94/94 [==============================] - 0s 5ms/step - loss: 0.1705 - accuracy: 0.9340 - val_loss: 0.1143 - val_accuracy: 0.9485\n",
            "Epoch 7/25\n",
            "94/94 [==============================] - 0s 5ms/step - loss: 0.1520 - accuracy: 0.9399 - val_loss: 0.1093 - val_accuracy: 0.9477\n",
            "Epoch 8/25\n",
            "94/94 [==============================] - 0s 5ms/step - loss: 0.1475 - accuracy: 0.9431 - val_loss: 0.1065 - val_accuracy: 0.9485\n",
            "Epoch 9/25\n",
            "94/94 [==============================] - 0s 5ms/step - loss: 0.1380 - accuracy: 0.9458 - val_loss: 0.1039 - val_accuracy: 0.9492\n",
            "Epoch 10/25\n",
            "94/94 [==============================] - 0s 4ms/step - loss: 0.1313 - accuracy: 0.9479 - val_loss: 0.1018 - val_accuracy: 0.9492\n",
            "Epoch 11/25\n",
            "94/94 [==============================] - 0s 5ms/step - loss: 0.1307 - accuracy: 0.9479 - val_loss: 0.0997 - val_accuracy: 0.9542\n",
            "Epoch 12/25\n",
            "94/94 [==============================] - 0s 5ms/step - loss: 0.1224 - accuracy: 0.9493 - val_loss: 0.0982 - val_accuracy: 0.9621\n",
            "Epoch 13/25\n",
            "94/94 [==============================] - 0s 5ms/step - loss: 0.1220 - accuracy: 0.9525 - val_loss: 0.0973 - val_accuracy: 0.9621\n",
            "Epoch 14/25\n",
            "94/94 [==============================] - 0s 5ms/step - loss: 0.1163 - accuracy: 0.9526 - val_loss: 0.0954 - val_accuracy: 0.9592\n",
            "Epoch 15/25\n",
            "94/94 [==============================] - 0s 5ms/step - loss: 0.1148 - accuracy: 0.9545 - val_loss: 0.0929 - val_accuracy: 0.9556\n",
            "Epoch 16/25\n",
            "94/94 [==============================] - 0s 5ms/step - loss: 0.1104 - accuracy: 0.9552 - val_loss: 0.0931 - val_accuracy: 0.9613\n",
            "Epoch 17/25\n",
            "94/94 [==============================] - 0s 5ms/step - loss: 0.1127 - accuracy: 0.9525 - val_loss: 0.0907 - val_accuracy: 0.9606\n",
            "Epoch 18/25\n",
            "94/94 [==============================] - 1s 6ms/step - loss: 0.1070 - accuracy: 0.9565 - val_loss: 0.0901 - val_accuracy: 0.9535\n",
            "Epoch 19/25\n",
            "94/94 [==============================] - 1s 7ms/step - loss: 0.1056 - accuracy: 0.9563 - val_loss: 0.0870 - val_accuracy: 0.9613\n",
            "Epoch 20/25\n",
            "94/94 [==============================] - 1s 8ms/step - loss: 0.1013 - accuracy: 0.9587 - val_loss: 0.0858 - val_accuracy: 0.9599\n",
            "Epoch 21/25\n",
            "94/94 [==============================] - 1s 7ms/step - loss: 0.1069 - accuracy: 0.9552 - val_loss: 0.0859 - val_accuracy: 0.9613\n",
            "Epoch 22/25\n",
            "94/94 [==============================] - 1s 8ms/step - loss: 0.1023 - accuracy: 0.9563 - val_loss: 0.0837 - val_accuracy: 0.9621\n",
            "Epoch 23/25\n",
            "94/94 [==============================] - 1s 7ms/step - loss: 0.1004 - accuracy: 0.9568 - val_loss: 0.0821 - val_accuracy: 0.9642\n",
            "Epoch 24/25\n",
            "94/94 [==============================] - 0s 5ms/step - loss: 0.0988 - accuracy: 0.9573 - val_loss: 0.0811 - val_accuracy: 0.9642\n",
            "Epoch 25/25\n",
            "94/94 [==============================] - 0s 5ms/step - loss: 0.0957 - accuracy: 0.9585 - val_loss: 0.0803 - val_accuracy: 0.9621\n"
          ]
        }
      ]
    },
    {
      "cell_type": "code",
      "source": [
        "model.summary()"
      ],
      "metadata": {
        "colab": {
          "base_uri": "https://localhost:8080/"
        },
        "id": "Ic9BpQMODGqL",
        "outputId": "8e710cc6-c536-428b-e468-597ab9cc82c5"
      },
      "execution_count": 39,
      "outputs": [
        {
          "output_type": "stream",
          "name": "stdout",
          "text": [
            "Model: \"cnn__model\"\n",
            "_________________________________________________________________\n",
            " Layer (type)                Output Shape              Param #   \n",
            "=================================================================\n",
            " conv1d (Conv1D)             multiple                  896       \n",
            "                                                                 \n",
            " max_pooling1d (MaxPooling1D  multiple                 0         \n",
            " )                                                               \n",
            "                                                                 \n",
            " conv1d_1 (Conv1D)           multiple                  3104      \n",
            "                                                                 \n",
            " global_max_pooling1d (Globa  multiple                 0         \n",
            " lMaxPooling1D)                                                  \n",
            "                                                                 \n",
            " dropout (Dropout)           multiple                  0         \n",
            "                                                                 \n",
            " dense (Dense)               multiple                  198       \n",
            "                                                                 \n",
            "=================================================================\n",
            "Total params: 4,198\n",
            "Trainable params: 4,198\n",
            "Non-trainable params: 0\n",
            "_________________________________________________________________\n"
          ]
        }
      ]
    },
    {
      "cell_type": "code",
      "source": [
        "# print train and valid loss over epoch\n",
        "\n",
        "plt.plot(history.history['val_loss'], label='VALID')\n",
        "plt.plot(history.history['loss'], label='TRAIN')\n",
        "plt.legend()\n",
        "plt.title('Loss over Epoch')\n",
        "plt.show()"
      ],
      "metadata": {
        "id": "woHA37XYww-N",
        "colab": {
          "base_uri": "https://localhost:8080/",
          "height": 452
        },
        "outputId": "200d7476-b076-4f91-d6ba-b5e512137022"
      },
      "execution_count": 41,
      "outputs": [
        {
          "output_type": "display_data",
          "data": {
            "text/plain": [
              "<Figure size 640x480 with 1 Axes>"
            ],
            "image/png": "[encoded data removed]"
          },
          "metadata": {}
        }
      ]
    },
    {
      "cell_type": "markdown",
      "source": [
        "## Results"
      ],
      "metadata": {
        "id": "WMCB4wXpyR5s"
      }
    },
    {
      "cell_type": "code",
      "source": [
        "# Evaluate the model on the test data using `evaluate`\n",
        "print(\"Evaluate on test data\")\n",
        "results = model.evaluate(testX, testy, batch_size=128)\n",
        "print(\"test loss, test acc:\", results)"
      ],
      "metadata": {
        "colab": {
          "base_uri": "https://localhost:8080/"
        },
        "id": "iLezz21oDK4X",
        "outputId": "7b9b235f-2145-46f4-f59b-347549b17e1d"
      },
      "execution_count": 42,
      "outputs": [
        {
          "output_type": "stream",
          "name": "stdout",
          "text": [
            "Evaluate on test data\n",
            "24/24 [==============================] - 0s 3ms/step - loss: 0.1988 - accuracy: 0.9277\n",
            "test loss, test acc: [0.19880850613117218, 0.9277231097221375]\n"
          ]
        }
      ]
    },
    {
      "cell_type": "markdown",
      "source": [
        "## Further Experiments"
      ],
      "metadata": {
        "id": "p6usF2WKy2RT"
      }
    },
    {
      "cell_type": "markdown",
      "source": [
        "### Hyperparameter Tuning with Keras Tuner"
      ],
      "metadata": {
        "id": "tDHZsVRtQpvS"
      }
    },
    {
      "cell_type": "code",
      "source": [
        "!pip install keras-tuner --upgrade"
      ],
      "metadata": {
        "id": "w6RiWL1Ay5ET",
        "colab": {
          "base_uri": "https://localhost:8080/"
        },
        "outputId": "8b723fd3-c14a-4ba4-f9ac-b5bce7f41ed9"
      },
      "execution_count": 43,
      "outputs": [
        {
          "output_type": "stream",
          "name": "stdout",
          "text": [
            "Looking in indexes: https://pypi.org/simple, https://us-python.pkg.dev/colab-wheels/public/simple/\n",
            "Collecting keras-tuner\n",
            "  Downloading keras_tuner-1.3.5-py3-none-any.whl (176 kB)\n",
            "\u001b[2K     \u001b[90m━━━━━━━━━━━━━━━━━━━━━━━━━━━━━━━━━━━━━━\u001b[0m \u001b[32m176.1/176.1 kB\u001b[0m \u001b[31m11.5 MB/s\u001b[0m eta \u001b[36m0:00:00\u001b[0m\n",
            "\u001b[?25hRequirement already satisfied: packaging in /usr/local/lib/python3.10/dist-packages (from keras-tuner) (23.1)\n",
            "Requirement already satisfied: requests in /usr/local/lib/python3.10/dist-packages (from keras-tuner) (2.27.1)\n",
            "Collecting kt-legacy (from keras-tuner)\n",
            "  Downloading kt_legacy-1.0.5-py3-none-any.whl (9.6 kB)\n",
            "Requirement already satisfied: urllib3<1.27,>=1.21.1 in /usr/local/lib/python3.10/dist-packages (from requests->keras-tuner) (1.26.15)\n",
            "Requirement already satisfied: certifi>=2017.4.17 in /usr/local/lib/python3.10/dist-packages (from requests->keras-tuner) (2022.12.7)\n",
            "Requirement already satisfied: charset-normalizer~=2.0.0 in /usr/local/lib/python3.10/dist-packages (from requests->keras-tuner) (2.0.12)\n",
            "Requirement already satisfied: idna<4,>=2.5 in /usr/local/lib/python3.10/dist-packages (from requests->keras-tuner) (3.4)\n",
            "Installing collected packages: kt-legacy, keras-tuner\n",
            "Successfully installed keras-tuner-1.3.5 kt-legacy-1.0.5\n"
          ]
        }
      ]
    },
    {
      "cell_type": "code",
      "source": [
        "import keras_tuner"
      ],
      "metadata": {
        "id": "HX11zSkBxkCu"
      },
      "execution_count": 44,
      "outputs": []
    },
    {
      "cell_type": "code",
      "source": [
        "from tensorflow.keras import Sequential"
      ],
      "metadata": {
        "id": "yRXEkbSg0p3l"
      },
      "execution_count": 45,
      "outputs": []
    },
    {
      "cell_type": "code",
      "source": [
        "def build_model(hp):\n",
        "  model = Sequential()\n",
        "  model.add(Conv1D(\n",
        "      hp.Choice(name='filter1_size', values=[32, 64, 128]),\n",
        "      hp.Choice(name='kernel1_size', values=[3, 5, 7]),\n",
        "      activation='relu'))\n",
        "  model.add(MaxPooling1D())  \n",
        "  model.add(Conv1D(\n",
        "      hp.Choice(name='filter2_size', values=[32, 64, 128]),\n",
        "      hp.Choice(name='kernel2_size', values=[3, 5, 7]),\n",
        "      activation='relu'))  \n",
        "  if hp.Boolean(name=\"dropout\"):\n",
        "    model.add(Dropout(rate=0.2))\n",
        "  model.add(GlobalMaxPooling1D())\n",
        "  #model.add(Flatten())\n",
        "  model.add(Dense(6, activation='softmax'))\n",
        "  model.compile(\n",
        "        optimizer=\"adam\", loss=\"categorical_crossentropy\", metrics=[\"accuracy\"],\n",
        "    )\n",
        "  return model"
      ],
      "metadata": {
        "id": "daeZrPOVLJBB"
      },
      "execution_count": 53,
      "outputs": []
    },
    {
      "cell_type": "code",
      "source": [
        "build_model(keras_tuner.HyperParameters())"
      ],
      "metadata": {
        "colab": {
          "base_uri": "https://localhost:8080/"
        },
        "id": "r2KyVBTMDpEU",
        "outputId": "4162353d-7727-40b6-c981-afc82c24e813"
      },
      "execution_count": 54,
      "outputs": [
        {
          "output_type": "execute_result",
          "data": {
            "text/plain": [
              "<keras.engine.sequential.Sequential at 0x7fc0704376d0>"
            ]
          },
          "metadata": {},
          "execution_count": 54
        }
      ]
    },
    {
      "cell_type": "code",
      "source": [
        "tuner = keras_tuner.GridSearch(\n",
        "    build_model,\n",
        "    objective='val_accuracy',\n",
        "    max_trials=5,\n",
        "    overwrite=True)"
      ],
      "metadata": {
        "id": "CuoyY4XjDkOE"
      },
      "execution_count": 55,
      "outputs": []
    },
    {
      "cell_type": "code",
      "source": [
        "tuner.search_space_summary()"
      ],
      "metadata": {
        "colab": {
          "base_uri": "https://localhost:8080/"
        },
        "id": "vBgLNX-PDkFg",
        "outputId": "08987d8d-7c2e-49d9-fd46-077e81fa2426"
      },
      "execution_count": 56,
      "outputs": [
        {
          "output_type": "stream",
          "name": "stdout",
          "text": [
            "Search space summary\n",
            "Default search space size: 5\n",
            "filter1_size (Choice)\n",
            "{'default': 32, 'conditions': [], 'values': [32, 64, 128], 'ordered': True}\n",
            "kernel1_size (Choice)\n",
            "{'default': 3, 'conditions': [], 'values': [3, 5, 7], 'ordered': True}\n",
            "filter2_size (Choice)\n",
            "{'default': 32, 'conditions': [], 'values': [32, 64, 128], 'ordered': True}\n",
            "kernel2_size (Choice)\n",
            "{'default': 3, 'conditions': [], 'values': [3, 5, 7], 'ordered': True}\n",
            "dropout (Boolean)\n",
            "{'default': False, 'conditions': []}\n"
          ]
        }
      ]
    },
    {
      "cell_type": "code",
      "source": [
        "tuner.search(trainX, trainy, epochs=5, validation_data=(validX, validy))"
      ],
      "metadata": {
        "colab": {
          "base_uri": "https://localhost:8080/"
        },
        "id": "KUTUcDqQDj9n",
        "outputId": "d294a45f-99e7-4ed1-f807-70b085d0a2aa"
      },
      "execution_count": 57,
      "outputs": [
        {
          "output_type": "stream",
          "name": "stdout",
          "text": [
            "Trial 5 Complete [00h 00m 07s]\n",
            "val_accuracy: 0.965640664100647\n",
            "\n",
            "Best val_accuracy So Far: 0.965640664100647\n",
            "Total elapsed time: 00h 00m 47s\n"
          ]
        }
      ]
    },
    {
      "cell_type": "code",
      "source": [
        "best_model = tuner.get_best_models()[0]"
      ],
      "metadata": {
        "id": "1EO51en8Dj1_"
      },
      "execution_count": 58,
      "outputs": []
    },
    {
      "cell_type": "code",
      "source": [
        "best_model.build(input_shape=(None, 128, 9))\n",
        "best_model.summary()"
      ],
      "metadata": {
        "colab": {
          "base_uri": "https://localhost:8080/"
        },
        "id": "ANil4WtkDg0p",
        "outputId": "936444dd-b2c2-4ab7-ae44-fd4052d05676"
      },
      "execution_count": 59,
      "outputs": [
        {
          "output_type": "stream",
          "name": "stdout",
          "text": [
            "Model: \"sequential\"\n",
            "_________________________________________________________________\n",
            " Layer (type)                Output Shape              Param #   \n",
            "=================================================================\n",
            " conv1d (Conv1D)             (None, 126, 32)           896       \n",
            "                                                                 \n",
            " max_pooling1d (MaxPooling1D  (None, 63, 32)           0         \n",
            " )                                                               \n",
            "                                                                 \n",
            " conv1d_1 (Conv1D)           (None, 57, 32)            7200      \n",
            "                                                                 \n",
            " global_max_pooling1d (Globa  (None, 32)               0         \n",
            " lMaxPooling1D)                                                  \n",
            "                                                                 \n",
            " dense (Dense)               (None, 6)                 198       \n",
            "                                                                 \n",
            "=================================================================\n",
            "Total params: 8,294\n",
            "Trainable params: 8,294\n",
            "Non-trainable params: 0\n",
            "_________________________________________________________________\n"
          ]
        }
      ]
    },
    {
      "cell_type": "code",
      "source": [
        "tuner.results_summary()"
      ],
      "metadata": {
        "colab": {
          "base_uri": "https://localhost:8080/"
        },
        "id": "W2C5BCmwFRqV",
        "outputId": "d666f8ef-34ff-4382-928f-ab81416b490b"
      },
      "execution_count": 60,
      "outputs": [
        {
          "output_type": "stream",
          "name": "stdout",
          "text": [
            "Results summary\n",
            "Results in ./untitled_project\n",
            "Showing 10 best trials\n",
            "Objective(name=\"val_accuracy\", direction=\"max\")\n",
            "\n",
            "Trial 4 summary\n",
            "Hyperparameters:\n",
            "filter1_size: 32\n",
            "kernel1_size: 3\n",
            "filter2_size: 32\n",
            "kernel2_size: 7\n",
            "dropout: False\n",
            "Score: 0.965640664100647\n",
            "\n",
            "Trial 3 summary\n",
            "Hyperparameters:\n",
            "filter1_size: 32\n",
            "kernel1_size: 3\n",
            "filter2_size: 32\n",
            "kernel2_size: 5\n",
            "dropout: True\n",
            "Score: 0.960629940032959\n",
            "\n",
            "Trial 1 summary\n",
            "Hyperparameters:\n",
            "filter1_size: 32\n",
            "kernel1_size: 3\n",
            "filter2_size: 32\n",
            "kernel2_size: 3\n",
            "dropout: True\n",
            "Score: 0.9591982960700989\n",
            "\n",
            "Trial 2 summary\n",
            "Hyperparameters:\n",
            "filter1_size: 32\n",
            "kernel1_size: 3\n",
            "filter2_size: 32\n",
            "kernel2_size: 5\n",
            "dropout: False\n",
            "Score: 0.9584824442863464\n",
            "\n",
            "Trial 0 summary\n",
            "Hyperparameters:\n",
            "filter1_size: 32\n",
            "kernel1_size: 3\n",
            "filter2_size: 32\n",
            "kernel2_size: 3\n",
            "dropout: False\n",
            "Score: 0.9577666521072388\n"
          ]
        }
      ]
    },
    {
      "cell_type": "code",
      "source": [],
      "metadata": {
        "id": "XnixaY02pU1m"
      },
      "execution_count": null,
      "outputs": []
    },
    {
      "cell_type": "code",
      "source": [],
      "metadata": {
        "id": "M0a2Te05Dcci"
      },
      "execution_count": null,
      "outputs": []
    }
  ]
}